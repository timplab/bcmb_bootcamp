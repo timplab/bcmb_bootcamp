{
 "cells": [
  {
   "cell_type": "markdown",
   "metadata": {},
   "source": [
    "# Interpolating and Extrapolating"
   ]
  },
  {
   "cell_type": "markdown",
   "metadata": {},
   "source": [
    "So - we can now generate models and solve equations, but what if we are measuring data?\n",
    "\n",
    "First - let's talk about _interpolation_ and _extrapolation_.  \n",
    "\n",
    "**_Interpolation_** is estimating values between recorded data points.   \n",
    "**_Extrapolation_** is istimating outside the bounds of the recorded data.  \n",
    "\n",
    "We can do both of these with python!\n",
    "\n",
    "First let's generate some example \"data\" to play with. We are going to make this up, but you could use real data just as easily after loading it with - say - pandas, etc.\n"
   ]
  },
  {
   "cell_type": "code",
   "execution_count": null,
   "metadata": {},
   "outputs": [],
   "source": [
    "import numpy as np\n",
    "import matplotlib.pyplot as plt"
   ]
  },
  {
   "cell_type": "code",
   "execution_count": null,
   "metadata": {},
   "outputs": [],
   "source": [
    "data_x=np.linspace(0, 10, 11)\n",
    "data_y=np.cos(-data_x**2/9.0)"
   ]
  },
  {
   "cell_type": "code",
   "execution_count": null,
   "metadata": {},
   "outputs": [],
   "source": [
    "plt.plot(data_x, data_y, 'ro')"
   ]
  },
  {
   "cell_type": "markdown",
   "metadata": {},
   "source": [
    "Now let's try to interpolate between the data points. From `scipy` yet again, we can use the `interp1d` function, which generates an \"interpolation function object\" - basically a function you can pass values to to see what they would be."
   ]
  },
  {
   "cell_type": "code",
   "execution_count": null,
   "metadata": {},
   "outputs": [],
   "source": [
    "from scipy.interpolate import interp1d"
   ]
  },
  {
   "cell_type": "code",
   "execution_count": null,
   "metadata": {},
   "outputs": [],
   "source": [
    "f_linear=interp1d(data_x, data_y)"
   ]
  },
  {
   "cell_type": "code",
   "execution_count": null,
   "metadata": {},
   "outputs": [],
   "source": [
    "f_linear"
   ]
  },
  {
   "cell_type": "markdown",
   "metadata": {},
   "source": [
    "Let's make a denser set of x points so we can see how the interpolation is working."
   ]
  },
  {
   "cell_type": "code",
   "execution_count": null,
   "metadata": {},
   "outputs": [],
   "source": [
    "dense_x=np.linspace(0, 10, 51)"
   ]
  },
  {
   "cell_type": "markdown",
   "metadata": {},
   "source": [
    "Then let's apply the interpolation function"
   ]
  },
  {
   "cell_type": "code",
   "execution_count": null,
   "metadata": {},
   "outputs": [],
   "source": [
    "y_linear=f_linear(dense_x)\n",
    "y_linear"
   ]
  },
  {
   "cell_type": "markdown",
   "metadata": {},
   "source": [
    "And plot!"
   ]
  },
  {
   "cell_type": "code",
   "execution_count": null,
   "metadata": {},
   "outputs": [],
   "source": [
    "plt.plot(data_x, data_y, 'ro')\n",
    "plt.plot(dense_x, y_linear, 'b-')"
   ]
  },
  {
   "cell_type": "markdown",
   "metadata": {},
   "source": [
    "Ok - so the basic interp1d just draws a straight line between each data point, and uses that to figure out what a new y-value might be.  This is . . . useful, but one could clearly suspect that it's not accurate.  If we look at what the actual data formula would have generated:"
   ]
  },
  {
   "cell_type": "code",
   "execution_count": null,
   "metadata": {},
   "outputs": [],
   "source": [
    "dense_y=np.cos(-dense_x**2/9.0)"
   ]
  },
  {
   "cell_type": "code",
   "execution_count": null,
   "metadata": {},
   "outputs": [],
   "source": [
    "plt.plot(data_x, data_y, 'ro')\n",
    "plt.plot(dense_x, y_linear, 'b-')\n",
    "plt.plot(dense_x, dense_y, 'r--')"
   ]
  },
  {
   "cell_type": "markdown",
   "metadata": {},
   "source": [
    "It's ok in certain regions, but in others is way off.  What happens if we try to _extrapolate_ or plot values outside the range of the initial data?"
   ]
  },
  {
   "cell_type": "code",
   "execution_count": null,
   "metadata": {},
   "outputs": [],
   "source": [
    "extra_x=np.linspace(-2, 12, 71)\n",
    "y_linear_extra=f_linear(extra_x) #this will throw an error on purpose"
   ]
  },
  {
   "cell_type": "markdown",
   "metadata": {},
   "source": [
    "Hmm - threw an error!  Reading the error - it says `A value in x_new is below the interpolation range.` - meaning that we tried to extrapolate.  However, there are _options_ you can set for `interp1d` that will allow the function to extrapolate.  These options are `bounds_error` and `fill_value`.\n",
    "\n",
    "`bounds_error` controls whether this error is thrown, but if you specify it as `False` you must also specify the `fill_value`.  `fill_value` can either be the values you want to \"fill\" in when extrapolating as in (.5, -.5):\n"
   ]
  },
  {
   "cell_type": "code",
   "execution_count": null,
   "metadata": {},
   "outputs": [],
   "source": [
    "f_linear_fixed=interp1d(data_x, data_y, bounds_error=False, fill_value=(.5, -.5))\n",
    "y_linear_fixed=f_linear_fixed(extra_x)"
   ]
  },
  {
   "cell_type": "code",
   "execution_count": null,
   "metadata": {},
   "outputs": [],
   "source": [
    "plt.plot(data_x, data_y, 'ro')\n",
    "plt.plot(extra_x, y_linear_fixed, 'b-')"
   ]
  },
  {
   "cell_type": "markdown",
   "metadata": {},
   "source": [
    "So it just uses a constant value outside the bounds of the data that was specified. The other option for `fill_value` is to say \"extrapolate\""
   ]
  },
  {
   "cell_type": "code",
   "execution_count": null,
   "metadata": {},
   "outputs": [],
   "source": [
    "f_linear_extra=interp1d(data_x, data_y, bounds_error=False, fill_value=\"extrapolate\")\n",
    "y_linear_extra=f_linear_extra(extra_x)"
   ]
  },
  {
   "cell_type": "code",
   "execution_count": null,
   "metadata": {},
   "outputs": [],
   "source": [
    "plt.plot(data_x, data_y, 'ro')\n",
    "plt.plot(extra_x, y_linear_extra, 'b-')"
   ]
  },
  {
   "cell_type": "markdown",
   "metadata": {},
   "source": [
    "So with extrapolate it just continues the line defined from the last two points.\n",
    "\n",
    "We can also set the `kind` of interpolation we are doing - the default interpolation is \"linear\", but we can also do one of a couple different spline fits:"
   ]
  },
  {
   "cell_type": "code",
   "execution_count": null,
   "metadata": {},
   "outputs": [],
   "source": [
    "f_zero=interp1d(data_x, data_y, 'zero')\n",
    "f_slinear=interp1d(data_x, data_y, kind='slinear')\n",
    "f_cubic=interp1d(data_x, data_y, kind='cubic')"
   ]
  },
  {
   "cell_type": "code",
   "execution_count": null,
   "metadata": {},
   "outputs": [],
   "source": [
    "y_zero=f_zero(dense_x)\n",
    "y_slinear=f_slinear(dense_x)\n",
    "y_cubic=f_cubic(dense_x)"
   ]
  },
  {
   "cell_type": "code",
   "execution_count": null,
   "metadata": {},
   "outputs": [],
   "source": [
    "plt.plot(data_x, data_y, 'ro')\n",
    "plt.plot(dense_x, y_zero, 'b-')\n",
    "plt.plot(dense_x, y_slinear, 'r--')\n",
    "plt.plot(dense_x, y_cubic, 'k-+')\n",
    "plt.legend(['data', 'Zeroth order', 'first order', 'second order'])"
   ]
  },
  {
   "cell_type": "markdown",
   "metadata": {},
   "source": [
    "Or we can try `nearest`, `previous` or `next`:"
   ]
  },
  {
   "cell_type": "code",
   "execution_count": null,
   "metadata": {},
   "outputs": [],
   "source": [
    "f_nearest=interp1d(data_x, data_y, 'nearest')\n",
    "f_previous=interp1d(data_x, data_y, kind='previous')\n",
    "f_next=interp1d(data_x, data_y, kind='next')"
   ]
  },
  {
   "cell_type": "code",
   "execution_count": null,
   "metadata": {},
   "outputs": [],
   "source": [
    "y_nearest=f_nearest(dense_x)\n",
    "y_previous=f_previous(dense_x)\n",
    "y_next=f_next(dense_x)"
   ]
  },
  {
   "cell_type": "code",
   "execution_count": null,
   "metadata": {},
   "outputs": [],
   "source": [
    "plt.plot(data_x, data_y, 'ro')\n",
    "plt.plot(dense_x, y_nearest, 'b-')\n",
    "plt.plot(dense_x, y_previous, 'r--')\n",
    "plt.plot(dense_x, y_next, 'k-+')\n",
    "plt.legend(['data', 'nearest', 'previous', 'next'])"
   ]
  },
  {
   "cell_type": "markdown",
   "metadata": {},
   "source": [
    "## Curve fitting"
   ]
  },
  {
   "cell_type": "markdown",
   "metadata": {},
   "source": [
    "So - we can intperolate between points - but what if we want to fig a curve to the whole function? \n",
    "\n",
    "We can use `curve_fit` from `scipy.optimize`\n",
    "\n",
    "Let's make some noisy \"data\" to test our fitting:"
   ]
  },
  {
   "cell_type": "code",
   "execution_count": null,
   "metadata": {},
   "outputs": [],
   "source": [
    "x=np.linspace(0.0,20.0,51)\n",
    "A=4.0\n",
    "B=.5\n",
    "y=A*np.sin(B*x)+np.random.normal(size=51)"
   ]
  },
  {
   "cell_type": "code",
   "execution_count": null,
   "metadata": {},
   "outputs": [],
   "source": [
    "plt.plot(x,y, 'ro')"
   ]
  },
  {
   "cell_type": "markdown",
   "metadata": {},
   "source": [
    "So with this data, let's try to fit a sin curve."
   ]
  },
  {
   "cell_type": "code",
   "execution_count": null,
   "metadata": {},
   "outputs": [],
   "source": [
    "from scipy import optimize"
   ]
  },
  {
   "cell_type": "markdown",
   "metadata": {},
   "source": [
    "Now we have to setup the function we want to fit, and what parameters it has:"
   ]
  },
  {
   "cell_type": "code",
   "execution_count": null,
   "metadata": {},
   "outputs": [],
   "source": [
    "def myequation(x, a, b):\n",
    "    y=a*np.sin(x*b)\n",
    "    return y"
   ]
  },
  {
   "cell_type": "code",
   "execution_count": null,
   "metadata": {},
   "outputs": [],
   "source": [
    "param, param_covar = optimize.curve_fit(myequation, x, y, p0=[3, .65])\n",
    "param"
   ]
  },
  {
   "cell_type": "code",
   "execution_count": null,
   "metadata": {},
   "outputs": [],
   "source": [
    "param_covar"
   ]
  },
  {
   "cell_type": "code",
   "execution_count": null,
   "metadata": {},
   "outputs": [],
   "source": [
    "y_fit=myequation(x, param[0], param[1])"
   ]
  },
  {
   "cell_type": "code",
   "execution_count": null,
   "metadata": {},
   "outputs": [],
   "source": [
    "plt.plot(x,y, 'ro')\n",
    "plt.plot(x,y_fit, 'b--')"
   ]
  },
  {
   "cell_type": "markdown",
   "metadata": {},
   "source": [
    "Ok - let's pull in some real data!  From here <https://pdixon.stat.iastate.edu/stat511/datasets.html> we've pulled a tab separated file for you looking at some enzyme kinetics!  \n",
    "\n",
    "You are probably all familiar with the justifiably famous Michaelis-Menten equation:\n",
    "\n",
    "$V = \\frac{V_{max} [S]}{K_M + [S]}$\n",
    "\n",
    "that enzyme kinetics follow.  Let's fit our data to equation so we can extract the parameters."
   ]
  },
  {
   "cell_type": "code",
   "execution_count": null,
   "metadata": {},
   "outputs": [],
   "source": [
    "import pandas as pd"
   ]
  },
  {
   "cell_type": "code",
   "execution_count": null,
   "metadata": {},
   "outputs": [],
   "source": [
    "enzyme=pd.read_table(\"../data/enzyme.txt\")\n",
    "enzyme"
   ]
  },
  {
   "cell_type": "code",
   "execution_count": null,
   "metadata": {},
   "outputs": [],
   "source": [
    "plt.plot(enzyme.concentration, enzyme.velocity, 'ro')"
   ]
  },
  {
   "cell_type": "markdown",
   "metadata": {},
   "source": [
    "Now let's set up the equation:"
   ]
  },
  {
   "cell_type": "code",
   "execution_count": null,
   "metadata": {},
   "outputs": [],
   "source": [
    "def michaelis_menten(s, v_max, k_m):\n",
    "    v=v_max*s/(k_m+s)\n",
    "    return v"
   ]
  },
  {
   "cell_type": "code",
   "execution_count": null,
   "metadata": {},
   "outputs": [],
   "source": [
    "enz_param, enz_param_covar = optimize.curve_fit(michaelis_menten, enzyme.concentration, enzyme.velocity)\n",
    "enz_param"
   ]
  },
  {
   "cell_type": "code",
   "execution_count": null,
   "metadata": {},
   "outputs": [],
   "source": [
    "fit_velocity=michaelis_menten(enzyme.concentration, enz_param[0], enz_param[1])"
   ]
  },
  {
   "cell_type": "code",
   "execution_count": null,
   "metadata": {},
   "outputs": [],
   "source": [
    "plt.plot(enzyme.concentration, enzyme.velocity, 'ro')\n",
    "plt.plot(enzyme.concentration, fit_velocity, 'b--')"
   ]
  },
  {
   "cell_type": "markdown",
   "metadata": {},
   "source": [
    "Pretty nice fit!  So we have used this to figure out what the parameters are for the enzyme.  Of course you could have also generated a Lineweaver-Burk plot - but I think the point is that _if_ you can setup an equation with the parameters, and you have sufficient data, you can try to fit it."
   ]
  },
  {
   "cell_type": "markdown",
   "metadata": {},
   "source": [
    "## Exercise:"
   ]
  },
  {
   "cell_type": "markdown",
   "metadata": {},
   "source": [
    "Now let's look at the pharmacokinetics of cefamandole. Cefamandole is a broad-spectrum antibiotic (no longer used in the US).  This data represents 6 healthy volunteers injected with 15 mg/kg body mass of cefamandole, then the plasma concentrations of the drug were measured at 14 time points.  \n",
    "\n",
    "Your friendly neighborhood biochemist told you that there are _two_ different rates involved in the degradation of this molecule, renal clearance and non-renal <https://www.ncbi.nlm.nih.gov/pmc/articles/PMC155817/>:\n",
    "\n",
    "$\\frac{d[C]}{dt} = -{renal}[C] - {nonrenal}[C]$\n",
    "\n",
    "$[C] = C_0 e^{-(renal+nonrenal)t}$\n",
    "\n"
   ]
  },
  {
   "cell_type": "code",
   "execution_count": null,
   "metadata": {},
   "outputs": [],
   "source": []
  }
 ],
 "metadata": {
  "kernelspec": {
   "display_name": "Python 3 (ipykernel)",
   "language": "python",
   "name": "python3"
  },
  "language_info": {
   "codemirror_mode": {
    "name": "ipython",
    "version": 3
   },
   "file_extension": ".py",
   "mimetype": "text/x-python",
   "name": "python",
   "nbconvert_exporter": "python",
   "pygments_lexer": "ipython3",
   "version": "3.10.14"
  }
 },
 "nbformat": 4,
 "nbformat_minor": 4
}
