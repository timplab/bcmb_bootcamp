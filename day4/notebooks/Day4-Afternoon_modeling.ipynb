{
 "cells": [
  {
   "cell_type": "markdown",
   "metadata": {},
   "source": [
    "# Differential Equations in BCMB"
   ]
  },
  {
   "cell_type": "markdown",
   "metadata": {},
   "source": [
    "# Differential equations and rates"
   ]
  },
  {
   "cell_type": "markdown",
   "metadata": {},
   "source": [
    "Biochemistry has _many_ differential equations.  Let's consider a zeroth-order reaction:\n",
    "\n",
    "$\\frac{d[C]}{dt} = -k$\n",
    "\n",
    "Gives us the equation - where the rate at which a drug (or other substance) decays $\\frac{d[C]}{dt}$ is dependent only on the constant $k$.  An example of a zeroth order reaction is the oxidation of ethanol in the human liver to acetaldehyde, catalyzed by alcohol dehydrogenase.  As long as there is a high enough amount of alcohol available, the reaction is limited only by how fast the enzyme can work and the amount of enzyme available. \n",
    "\n",
    "If we integrate this, we can see that the concentration should behave like:\n",
    "\n",
    "$C(t) = C_0 - kt$\n",
    "\n",
    "With $C_0$ the initial amount of alcohol and $t$ as time. The resulting curve looks like this:"
   ]
  },
  {
   "cell_type": "code",
   "execution_count": null,
   "metadata": {},
   "outputs": [],
   "source": [
    "import numpy as np\n",
    "import matplotlib.pyplot as plt"
   ]
  },
  {
   "cell_type": "code",
   "execution_count": null,
   "metadata": {},
   "outputs": [],
   "source": [
    "t=np.linspace(0,100, 101) #Here's my time values from 0 to 100\n",
    "k=5 #rate constant\n",
    "C_0=1000 #inital amount of alcohol\n",
    "C=C_0 - k*t"
   ]
  },
  {
   "cell_type": "code",
   "execution_count": null,
   "metadata": {},
   "outputs": [],
   "source": [
    "C"
   ]
  },
  {
   "cell_type": "code",
   "execution_count": null,
   "metadata": {},
   "outputs": [],
   "source": [
    "plt.plot(t, C)"
   ]
  },
  {
   "cell_type": "markdown",
   "metadata": {},
   "source": [
    "Ok - so let's now consider a \"first-order\" rate equation, like either _exponential decay_ or _exponential growth_.\n",
    "\n",
    "These rates generally follow:\n",
    "\n",
    "$\\frac{d[C]}{dt} = -k[C]$\n",
    "\n",
    "Gives us the equation - where the rate at which a drug (or other substance) decays $\\frac{d[C]}{dt}$ is dependent on the amount of the substance $[C]$ times a constant $k$. But . . . how do we solve this?  The rate of _change_ of the concentration is dependent _itself_ on the concentration.  Of course, if you've taken differential equations, you might know that the answer is:\n",
    "\n",
    "$C(t)=C_0e^{-kt}$\n",
    "\n",
    "But let's say we _don't_ know that.  What's another way to solve this?"
   ]
  },
  {
   "cell_type": "markdown",
   "metadata": {},
   "source": [
    "We can use Euler's method (<https://en.wikipedia.org/wiki/Euler_method>).  This is a numerical method where you basically take _tiny_ little baby steps, estimating the rate at each time based on the concentration at that time, recalculating at each point.  Let me illustrate - let's start with an initial concentration of $C_0=1000$ and $k=0.05$."
   ]
  },
  {
   "cell_type": "code",
   "execution_count": null,
   "metadata": {},
   "outputs": [],
   "source": [
    "C=np.array([1000])\n",
    "t=np.array([0])\n",
    "k=0.05\n",
    "plt.plot(t, C, '-o')"
   ]
  },
  {
   "cell_type": "markdown",
   "metadata": {},
   "source": [
    "Now let's calculate $C$ at $t = 1$.  First we calculate the rate at $t=0$:"
   ]
  },
  {
   "cell_type": "code",
   "execution_count": null,
   "metadata": {},
   "outputs": [],
   "source": [
    "rate=np.array([-k*C[0]])\n",
    "rate"
   ]
  },
  {
   "cell_type": "markdown",
   "metadata": {},
   "source": [
    "So the rate is $-50$ - let's now apply that rate from $t=0$ to calculate the concentration at $t=1$"
   ]
  },
  {
   "cell_type": "code",
   "execution_count": null,
   "metadata": {},
   "outputs": [],
   "source": [
    "dt = 1 # The size of our time step is 1\n",
    "t=np.append(t, t[0]+dt)\n",
    "C=np.append(C, C[0]+dt*rate[0])\n",
    "plt.plot(t, C, '-o')"
   ]
  },
  {
   "cell_type": "markdown",
   "metadata": {},
   "source": [
    "So now at $t=1$ we have $C=950$. Let's repeat this now for $t=1$"
   ]
  },
  {
   "cell_type": "code",
   "execution_count": null,
   "metadata": {},
   "outputs": [],
   "source": [
    "rate=np.append(rate, -k*C[1])\n",
    "rate"
   ]
  },
  {
   "cell_type": "markdown",
   "metadata": {},
   "source": [
    "Ok - the rate is now $-47.5$.  Let's apply this."
   ]
  },
  {
   "cell_type": "code",
   "execution_count": null,
   "metadata": {},
   "outputs": [],
   "source": [
    "t=np.append(t, t[1]+dt)\n",
    "C=np.append(C, C[1]+dt*rate[1])\n",
    "plt.plot(t, C, '-o')"
   ]
  },
  {
   "cell_type": "markdown",
   "metadata": {},
   "source": [
    "I see a pattern forming.  I bet I can do this with a for loop:"
   ]
  },
  {
   "cell_type": "code",
   "execution_count": null,
   "metadata": {},
   "outputs": [],
   "source": [
    "#Restart my values\n",
    "C=np.array([1000])\n",
    "t=np.array([0])\n",
    "k=0.05\n",
    "rate=np.array([-k*C[0]])\n",
    "dt=1\n",
    "num_points=int(100/dt)"
   ]
  },
  {
   "cell_type": "code",
   "execution_count": null,
   "metadata": {},
   "outputs": [],
   "source": [
    "for i in range(num_points):\n",
    "    t=np.append(t, t[i]+dt)\n",
    "    C=np.append(C, C[i]+dt*rate[i-1])\n",
    "    rate=np.append(rate, -k*C[i])"
   ]
  },
  {
   "cell_type": "code",
   "execution_count": null,
   "metadata": {},
   "outputs": [],
   "source": [
    "plt.plot(t, C, '-o')"
   ]
  },
  {
   "cell_type": "markdown",
   "metadata": {},
   "source": [
    "And let's compare this _numerical_ solution to the _analytical_ solution"
   ]
  },
  {
   "cell_type": "code",
   "execution_count": null,
   "metadata": {},
   "outputs": [],
   "source": [
    "(-k*t)"
   ]
  },
  {
   "cell_type": "code",
   "execution_count": null,
   "metadata": {},
   "outputs": [],
   "source": [
    "C_analytical=C[0]*np.exp(-k*t)\n",
    "\n",
    "plt.plot(t, C, 'o')\n",
    "plt.plot(t, C_analytical, 'k-')"
   ]
  },
  {
   "cell_type": "markdown",
   "metadata": {},
   "source": [
    "It's . . . . not perfect, but it's pretty close! The reason the curve is inaccurate is because the rate _changes_ through that first $dt$, that first time interval.  If we took smaller intervals, it would get more accurate, but then it would also require more computation.  Let's see what happens with $dt=0.1$ and $dt=10$"
   ]
  },
  {
   "cell_type": "markdown",
   "metadata": {},
   "source": [
    "For $dt=0.1$"
   ]
  },
  {
   "cell_type": "code",
   "execution_count": null,
   "metadata": {},
   "outputs": [],
   "source": [
    "#Restart my values\n",
    "C_small=np.array([1000])\n",
    "t_small=np.array([0])\n",
    "k=0.05\n",
    "rate_small=np.array([-k*C_small[0]])\n",
    "dt_small=0.1\n",
    "num_points=int(100/dt_small)"
   ]
  },
  {
   "cell_type": "code",
   "execution_count": null,
   "metadata": {},
   "outputs": [],
   "source": [
    "for i in range(num_points):\n",
    "    t_small=np.append(t_small, t_small[i]+dt_small)\n",
    "    C_small=np.append(C_small, C_small[i]+dt_small*rate_small[i-1])\n",
    "    rate_small=np.append(rate_small, -k*C_small[i])"
   ]
  },
  {
   "cell_type": "markdown",
   "metadata": {},
   "source": [
    "For $dt = 10$"
   ]
  },
  {
   "cell_type": "code",
   "execution_count": null,
   "metadata": {},
   "outputs": [],
   "source": [
    "#Restart my values\n",
    "C_big=np.array([1000])\n",
    "t_big=np.array([0])\n",
    "k=0.05\n",
    "rate_big=np.array([-k*C_big[0]])\n",
    "dt_big=10\n",
    "num_points=int(100/dt_big)"
   ]
  },
  {
   "cell_type": "code",
   "execution_count": null,
   "metadata": {},
   "outputs": [],
   "source": [
    "for i in range(num_points):\n",
    "    t_big=np.append(t_big, t_big[i]+dt_big)\n",
    "    C_big=np.append(C_big, C_big[i]+dt_big*rate_big[i-1])\n",
    "    rate_big=np.append(rate_big, -k*C_big[i])"
   ]
  },
  {
   "cell_type": "markdown",
   "metadata": {},
   "source": [
    "Now let's plot all 4 lines"
   ]
  },
  {
   "cell_type": "code",
   "execution_count": null,
   "metadata": {},
   "outputs": [],
   "source": [
    "plt.figure(figsize=(10,10))\n",
    "plt.plot(t_big, C_big, 'r-')\n",
    "plt.plot(t, C, 'b-')\n",
    "plt.plot(t_small, C_small, 'g-')\n",
    "plt.plot(t, C_analytical, 'k-')\n"
   ]
  },
  {
   "cell_type": "markdown",
   "metadata": {},
   "source": [
    "Ok - so if we take _too big_ a time step - it becomes illogical - going to less than zero concentration.  If we take a smaller time step, it has a better fit to the _true_ analytical solution.  So you always want to take the smallest time step that is logical."
   ]
  },
  {
   "cell_type": "markdown",
   "metadata": {},
   "source": [
    "All this said, it turns out . . . python can help you with this.  You don't have to make these for loops and solve it yourself each time!  Somewhat unsurprisingly, there are tools for it.   \n",
    "We are going to first use `scipy`'s `integrate` package - specifically the `solve_ivp` command. Some documentation is here (<https://docs.scipy.org/doc/scipy/reference/tutorial/integrate.html#ordinary-differential-equations-odeint>) and here (<https://docs.scipy.org/doc/scipy/reference/generated/scipy.integrate.solve_ivp.html#scipy.integrate.solve_ivp>)"
   ]
  },
  {
   "cell_type": "code",
   "execution_count": null,
   "metadata": {},
   "outputs": [],
   "source": [
    "from scipy.integrate import solve_ivp"
   ]
  },
  {
   "cell_type": "markdown",
   "metadata": {},
   "source": [
    "Let's set up for our same equation as before:\n",
    "\n",
    "$\\frac{d[C]}{dt} = -k[C]$\n",
    "\n",
    "We have to tell solve_ivp about this equation.  We'll do this by defining the function like so:"
   ]
  },
  {
   "cell_type": "code",
   "execution_count": null,
   "metadata": {},
   "outputs": [],
   "source": [
    "def decay(t, C):\n",
    "    k = 0.05\n",
    "    rate = -k * C\n",
    "    return rate"
   ]
  },
  {
   "cell_type": "markdown",
   "metadata": {},
   "source": [
    "Where `decay` is just the name of the function (like the name of any variable) and `(t, C)` tells you what information the function is getting passed, in this case **t**ime and **C**oncentration.\n",
    "\n",
    "Now let's run the ode solver, using the same time range for our analytical solution above:"
   ]
  },
  {
   "cell_type": "code",
   "execution_count": null,
   "metadata": {},
   "outputs": [],
   "source": [
    "C_0=[1000] #initial Condition\n",
    "tspan = [0, 100] #Time span\n",
    "C_solver = solve_ivp(decay, tspan, C_0)\n",
    "C_solver"
   ]
  },
  {
   "cell_type": "markdown",
   "metadata": {},
   "source": [
    "So what does this output?  It looks like it tells us the times it actually used - notice that the times it used _do not_ have regular spacing - the `solve_ivp` solver uses a more sophisticated version of Euler's method (Runge-kutta 4-5) and an _adaptive_ step size.  Without getting into the math, it chooses the step size to minimize the error _and_ the number of steps it needs to take.\n",
    "\n",
    "We _can_ force it to output values at certain points if we want like so:"
   ]
  },
  {
   "cell_type": "code",
   "execution_count": null,
   "metadata": {
    "tags": []
   },
   "outputs": [],
   "source": [
    "C_0=[1000] #initial Condition\n",
    "tspan = [0, 100] #Time span\n",
    "output_times = np.linspace(0,100,101)\n",
    "C_solver = solve_ivp(decay, tspan, C_0, t_eval=output_times)\n",
    "C_solver"
   ]
  },
  {
   "cell_type": "markdown",
   "metadata": {},
   "source": [
    "Let's plot our original loop plot, the analytical plot, and this `solve_ivp` plot:"
   ]
  },
  {
   "cell_type": "code",
   "execution_count": null,
   "metadata": {},
   "outputs": [],
   "source": [
    "C_solver.y"
   ]
  },
  {
   "cell_type": "code",
   "execution_count": null,
   "metadata": {},
   "outputs": [],
   "source": [
    "plt.plot(t, C, 'b-')\n",
    "plt.plot(t, C_analytical, 'g-')\n",
    "plt.plot(C_solver.t, C_solver.y[0], 'r-')\n",
    "plt.legend(['for loop', 'analytical', 'solveivp'])"
   ]
  },
  {
   "cell_type": "markdown",
   "metadata": {},
   "source": [
    "We can see that the analytical line and the `solve_ivp` line line up nearly perfectly. You likely only see the red line since it is overlapping the green line. You can remove the analytical line plot to verify.   So, we can use solve_ivp to define these functions."
   ]
  },
  {
   "cell_type": "code",
   "execution_count": null,
   "metadata": {},
   "outputs": [],
   "source": [
    "def nonconstant_decay(t, C):\n",
    "    if t < 20:\n",
    "        k=0\n",
    "    elif t < 60: \n",
    "        k=0.05\n",
    "    else:\n",
    "        k=0.25\n",
    "    return -k*C"
   ]
  },
  {
   "cell_type": "code",
   "execution_count": null,
   "metadata": {
    "tags": []
   },
   "outputs": [],
   "source": [
    "C_0=[1000] #initial Condition\n",
    "tspan = [0, 100] #Time span\n",
    "output_times = np.linspace(0,100,1001)\n",
    "C_solver = solve_ivp(nonconstant_decay, tspan, C_0, t_eval=output_times, max_step=1.0)\n",
    "C_solver"
   ]
  },
  {
   "cell_type": "code",
   "execution_count": null,
   "metadata": {},
   "outputs": [],
   "source": [
    "C_solver.y[0]"
   ]
  },
  {
   "cell_type": "code",
   "execution_count": null,
   "metadata": {},
   "outputs": [],
   "source": [
    "plt.plot(C_solver.t, C_solver.y[0], 'r-')\n"
   ]
  },
  {
   "cell_type": "code",
   "execution_count": null,
   "metadata": {},
   "outputs": [],
   "source": [
    "plt.plot(C_solver.t, C_solver.y[0], 'r-')\n",
    "plt.xlim(18, 20)\n",
    "plt.ylim(999,1002)"
   ]
  },
  {
   "cell_type": "markdown",
   "metadata": {},
   "source": [
    "## Exercise"
   ]
  },
  {
   "cell_type": "markdown",
   "metadata": {},
   "source": [
    "Say you have 100 bacteria in an essentially infinite amount of growth media.  Solve the ODE for exponential growth, assuming that the rate of growth of bacteria is given by:\n",
    "\n",
    "Growth rate $= dB$ where $d$ is a rate constant and $B$ the number of bacteria. Solve for $d$ of 1.39, .693 and .347.  (Hint: Use `args` in `solve_ivp` to make your life easier)\n",
    "\n",
    "What is the doubling time of bacteria for each of these? To get this you can A) use the plot to estimate B) use the `events` argument to get the solver to give you the answer for the first doubling."
   ]
  },
  {
   "cell_type": "code",
   "execution_count": null,
   "metadata": {},
   "outputs": [],
   "source": [
    "def bac_growth(t, B, d=1.39):\n",
    "    # CODE\n",
    "    return rate"
   ]
  },
  {
   "cell_type": "code",
   "execution_count": null,
   "metadata": {},
   "outputs": [],
   "source": [
    "def doubled(t,B, d=1.39):\n",
    "    # CODE\n",
    "    return doubled"
   ]
  },
  {
   "cell_type": "code",
   "execution_count": null,
   "metadata": {},
   "outputs": [],
   "source": [
    "B_0=[100] #initial Condition\n",
    "tspan = [0, 100] #Time span\n",
    "\n",
    "# CODE"
   ]
  }
 ],
 "metadata": {
  "kernelspec": {
   "display_name": "Python 3 (ipykernel)",
   "language": "python",
   "name": "python3"
  },
  "language_info": {
   "codemirror_mode": {
    "name": "ipython",
    "version": 3
   },
   "file_extension": ".py",
   "mimetype": "text/x-python",
   "name": "python",
   "nbconvert_exporter": "python",
   "pygments_lexer": "ipython3",
   "version": "3.10.14"
  }
 },
 "nbformat": 4,
 "nbformat_minor": 4
}
