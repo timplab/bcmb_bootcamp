{
 "cells": [
  {
   "cell_type": "markdown",
   "id": "65afb152",
   "metadata": {},
   "source": [
    "# Day 3 Homework"
   ]
  },
  {
   "cell_type": "markdown",
   "id": "96e5ef37",
   "metadata": {},
   "source": [
    "1. Here are 25 numbers drawn from a normal distribution. Calculate the mean, standard deviation, and variance of the set.\n",
    "\n",
    "    **Do the mean calculation manually, and then use the built-in functions provided in the **statistics** module for the others.**\n",
    "\n",
    "    **Hint**: The functions `sum`, `len`, `statistics.stdev`, and `statistics.variance` will be useful.\n",
    "    Use the `help` function to learn more about them, if needed."
   ]
  },
  {
   "cell_type": "code",
   "execution_count": 1,
   "id": "68e51639",
   "metadata": {},
   "outputs": [
    {
     "name": "stdout",
     "output_type": "stream",
     "text": [
      "[10.245326341707864, 9.503155526588797, 11.254785931057462, 9.861940937257188, 9.024179666704676, 10.565050217344965, 8.83235498617007, 11.738025467335527, 9.675490796158401, 11.182326307936343, 11.504353761657875, 11.949497039569765, 12.311774710432584, 9.534829130637144, 11.481342356701061, 11.46816841749334, 10.367803012316621, 9.343104196870232, 9.060388465261997, 9.051983236409392, 10.366470756822187, 9.718266746644588, 10.649728727536722, 7.917214485592975, 9.069458652778662]\n"
     ]
    }
   ],
   "source": [
    "import random\n",
    "import statistics\n",
    "\n",
    "#help(len)\n",
    " \n",
    "def sample_normal(mean, sd, n = 1, seed = 42):\n",
    "    \"\"\"Draw n samples from a normal distribution with given mean and standard deviation\"\"\"\n",
    "    random.seed(seed)\n",
    "    return [random.normalvariate(mean, sd) for _ in range(n)]\n",
    "\n",
    "my_samples = sample_normal(10, 1, n=25) \n",
    "print(my_samples) \n",
    " \n",
    "## your manual mean calculation code here\n",
    "\n",
    "## calculate mean, sd, and variance using statistics module\n"
   ]
  },
  {
   "cell_type": "code",
   "execution_count": 4,
   "id": "e80a5b21",
   "metadata": {},
   "outputs": [
    {
     "data": {
      "text/plain": [
       "10.227080794999457"
      ]
     },
     "execution_count": 4,
     "metadata": {},
     "output_type": "execute_result"
    }
   ],
   "source": [
    "sum(my_samples)/len(my_samples)"
   ]
  },
  {
   "cell_type": "code",
   "execution_count": 6,
   "id": "b3b99940",
   "metadata": {},
   "outputs": [
    {
     "data": {
      "text/plain": [
       "1.1534838840843793"
      ]
     },
     "execution_count": 6,
     "metadata": {},
     "output_type": "execute_result"
    }
   ],
   "source": [
    "statistics.stdev(my_samples)"
   ]
  },
  {
   "cell_type": "code",
   "execution_count": 7,
   "id": "fea18229",
   "metadata": {},
   "outputs": [
    {
     "data": {
      "text/plain": [
       "1.3305250708423857"
      ]
     },
     "execution_count": 7,
     "metadata": {},
     "output_type": "execute_result"
    }
   ],
   "source": [
    "statistics.variance(my_samples)\n"
   ]
  },
  {
   "cell_type": "markdown",
   "id": "42ecf210",
   "metadata": {},
   "source": [
    "From *my_samples* above, print out the following:\n",
    "- The first five elements (remember that python begins with index 0)\n",
    "- The last five elements\n",
    "- The 13th and 14th elements"
   ]
  },
  {
   "cell_type": "code",
   "execution_count": null,
   "id": "07850c76",
   "metadata": {},
   "outputs": [],
   "source": []
  },
  {
   "cell_type": "markdown",
   "id": "575dff49",
   "metadata": {},
   "source": [
    "2. You are given a sample of a DNA plasmid with a known concentration of 1.85ug/uL and a length of 1,354 bases, and are asked to calculate the molarity of the sample. \n",
    "\n",
    "  * Create a function to calculate the molarity of a double-stranded DNA molecule given this information. (Google is your friend here to find the formula and the molecular weight for an 'average' oligonucleotide base pair)."
   ]
  },
  {
   "cell_type": "code",
   "execution_count": 13,
   "id": "be5d15c3",
   "metadata": {},
   "outputs": [
    {
     "data": {
      "text/plain": [
       "2.1020338597886606e-06"
      ]
     },
     "execution_count": 13,
     "metadata": {},
     "output_type": "execute_result"
    }
   ],
   "source": [
    "def calc_molarity(plasmid_length, conc, perbpmw=617):\n",
    "    dnamw=plasmid_length*perbpmw\n",
    "    mol=(conc)/(dnamw)\n",
    "    return mol\n",
    "\n",
    "\n",
    "# Test your function with the above values\n",
    "plasmid_length = 1354\n",
    "conc = 1.85\n",
    "\n",
    "calc_molarity(plasmid_length, conc, perbpmw=650)"
   ]
  },
  {
   "cell_type": "markdown",
   "id": "07715398",
   "metadata": {},
   "source": [
    "  * You receive another plasmid with a length of 2,500 bases. You make a series of 10 dilutions ranging from 0-10ug/ul. Construct a loop to calculate the molarity of each dilution. (hint: help(range))"
   ]
  },
  {
   "cell_type": "code",
   "execution_count": 18,
   "id": "0975d126",
   "metadata": {},
   "outputs": [
    {
     "name": "stdout",
     "output_type": "stream",
     "text": [
      "1ug/ul\n",
      "6.153846153846154e-07\n",
      "2ug/ul\n",
      "1.2307692307692308e-06\n",
      "3ug/ul\n",
      "1.8461538461538462e-06\n",
      "4ug/ul\n",
      "2.4615384615384615e-06\n",
      "5ug/ul\n",
      "3.076923076923077e-06\n",
      "6ug/ul\n",
      "3.6923076923076925e-06\n",
      "7ug/ul\n",
      "4.3076923076923076e-06\n",
      "8ug/ul\n",
      "4.923076923076923e-06\n",
      "9ug/ul\n",
      "5.5384615384615385e-06\n",
      "10ug/ul\n",
      "6.153846153846154e-06\n"
     ]
    }
   ],
   "source": [
    "newplaslen=2500\n",
    "\n",
    "for i in range(1,11):\n",
    "    print(f\"{i}ug/ul\")\n",
    "    print(calc_molarity(newplaslen, i, perbpmw=650))"
   ]
  },
  {
   "cell_type": "markdown",
   "id": "2d859cdc",
   "metadata": {},
   "source": [
    "3. Using either a for loop or a list comprehension approach, translate the following formulae and solve for the indicated range of values\n",
    "\n",
    "* $x^2$ for $x:\\{0 ... 9\\}$"
   ]
  },
  {
   "cell_type": "code",
   "execution_count": 19,
   "id": "2fc6c680",
   "metadata": {},
   "outputs": [
    {
     "name": "stdout",
     "output_type": "stream",
     "text": [
      "0\n",
      "1\n",
      "4\n",
      "9\n",
      "16\n",
      "25\n",
      "36\n",
      "49\n",
      "64\n",
      "81\n"
     ]
    }
   ],
   "source": [
    "for x in range(0,10):\n",
    "    print(f\"{x**2}\")"
   ]
  },
  {
   "cell_type": "markdown",
   "id": "d104a2bf",
   "metadata": {},
   "source": [
    "* $2^x$ for all even numbers between 0 and 20"
   ]
  },
  {
   "cell_type": "code",
   "execution_count": 20,
   "id": "4ca32984",
   "metadata": {},
   "outputs": [
    {
     "name": "stdout",
     "output_type": "stream",
     "text": [
      "0\n",
      "1\n",
      "2\n",
      "4\n",
      "4\n",
      "16\n",
      "6\n",
      "64\n",
      "8\n",
      "256\n",
      "10\n",
      "1024\n",
      "12\n",
      "4096\n",
      "14\n",
      "16384\n",
      "16\n",
      "65536\n",
      "18\n",
      "262144\n",
      "20\n",
      "1048576\n"
     ]
    }
   ],
   "source": [
    "for x in range(0,21,2):\n",
    "    print(x)\n",
    "    print(2**x)"
   ]
  },
  {
   "cell_type": "markdown",
   "id": "c19f4c19",
   "metadata": {},
   "source": [
    "* $3x^4-2x^3+17x$ for $x:\\{1 ... 200\\}$"
   ]
  },
  {
   "cell_type": "code",
   "execution_count": 21,
   "id": "cf3ad1cf",
   "metadata": {},
   "outputs": [
    {
     "name": "stdout",
     "output_type": "stream",
     "text": [
      "x=1, y=18\n",
      "x=2, y=66\n",
      "x=3, y=240\n",
      "x=4, y=708\n",
      "x=5, y=1710\n",
      "x=6, y=3558\n",
      "x=7, y=6636\n",
      "x=8, y=11400\n",
      "x=9, y=18378\n",
      "x=10, y=28170\n",
      "x=11, y=41448\n",
      "x=12, y=58956\n",
      "x=13, y=81510\n",
      "x=14, y=109998\n",
      "x=15, y=145380\n",
      "x=16, y=188688\n",
      "x=17, y=241026\n",
      "x=18, y=303570\n",
      "x=19, y=377568\n",
      "x=20, y=464340\n",
      "x=21, y=565278\n",
      "x=22, y=681846\n",
      "x=23, y=815580\n",
      "x=24, y=968088\n",
      "x=25, y=1141050\n",
      "x=26, y=1336218\n",
      "x=27, y=1555416\n",
      "x=28, y=1800540\n",
      "x=29, y=2073558\n",
      "x=30, y=2376510\n",
      "x=31, y=2711508\n",
      "x=32, y=3080736\n",
      "x=33, y=3486450\n",
      "x=34, y=3930978\n",
      "x=35, y=4416720\n",
      "x=36, y=4946148\n",
      "x=37, y=5521806\n",
      "x=38, y=6146310\n",
      "x=39, y=6822348\n",
      "x=40, y=7552680\n",
      "x=41, y=8340138\n",
      "x=42, y=9187626\n",
      "x=43, y=10098120\n",
      "x=44, y=11074668\n",
      "x=45, y=12120390\n",
      "x=46, y=13238478\n",
      "x=47, y=14432196\n",
      "x=48, y=15704880\n",
      "x=49, y=17059938\n",
      "x=50, y=18500850\n",
      "x=51, y=20031168\n",
      "x=52, y=21654516\n",
      "x=53, y=23374590\n",
      "x=54, y=25195158\n",
      "x=55, y=27120060\n",
      "x=56, y=29153208\n",
      "x=57, y=31298586\n",
      "x=58, y=33560250\n",
      "x=59, y=35942328\n",
      "x=60, y=38449020\n",
      "x=61, y=41084598\n",
      "x=62, y=43853406\n",
      "x=63, y=46759860\n",
      "x=64, y=49808448\n",
      "x=65, y=53003730\n",
      "x=66, y=56350338\n",
      "x=67, y=59852976\n",
      "x=68, y=63516420\n",
      "x=69, y=67345518\n",
      "x=70, y=71345190\n",
      "x=71, y=75520428\n",
      "x=72, y=79876296\n",
      "x=73, y=84417930\n",
      "x=74, y=89150538\n",
      "x=75, y=94079400\n",
      "x=76, y=99209868\n",
      "x=77, y=104547366\n",
      "x=78, y=110097390\n",
      "x=79, y=115865508\n",
      "x=80, y=121857360\n",
      "x=81, y=128078658\n",
      "x=82, y=134535186\n",
      "x=83, y=141232800\n",
      "x=84, y=148177428\n",
      "x=85, y=155375070\n",
      "x=86, y=162831798\n",
      "x=87, y=170553756\n",
      "x=88, y=178547160\n",
      "x=89, y=186818298\n",
      "x=90, y=195373530\n",
      "x=91, y=204219288\n",
      "x=92, y=213362076\n",
      "x=93, y=222808470\n",
      "x=94, y=232565118\n",
      "x=95, y=242638740\n",
      "x=96, y=253036128\n",
      "x=97, y=263764146\n",
      "x=98, y=274829730\n",
      "x=99, y=286239888\n",
      "x=100, y=298001700\n",
      "x=101, y=310122318\n",
      "x=102, y=322608966\n",
      "x=103, y=335468940\n",
      "x=104, y=348709608\n",
      "x=105, y=362338410\n",
      "x=106, y=376362858\n",
      "x=107, y=390790536\n",
      "x=108, y=405629100\n",
      "x=109, y=420886278\n",
      "x=110, y=436569870\n",
      "x=111, y=452687748\n",
      "x=112, y=469247856\n",
      "x=113, y=486258210\n",
      "x=114, y=503726898\n",
      "x=115, y=521662080\n",
      "x=116, y=540071988\n",
      "x=117, y=558964926\n",
      "x=118, y=578349270\n",
      "x=119, y=598233468\n",
      "x=120, y=618626040\n",
      "x=121, y=639535578\n",
      "x=122, y=660970746\n",
      "x=123, y=682940280\n",
      "x=124, y=705452988\n",
      "x=125, y=728517750\n",
      "x=126, y=752143518\n",
      "x=127, y=776339316\n",
      "x=128, y=801114240\n",
      "x=129, y=826477458\n",
      "x=130, y=852438210\n",
      "x=131, y=879005808\n",
      "x=132, y=906189636\n",
      "x=133, y=933999150\n",
      "x=134, y=962443878\n",
      "x=135, y=991533420\n",
      "x=136, y=1021277448\n",
      "x=137, y=1051685706\n",
      "x=138, y=1082768010\n",
      "x=139, y=1114534248\n",
      "x=140, y=1146994380\n",
      "x=141, y=1180158438\n",
      "x=142, y=1214036526\n",
      "x=143, y=1248638820\n",
      "x=144, y=1283975568\n",
      "x=145, y=1320057090\n",
      "x=146, y=1356893778\n",
      "x=147, y=1394496096\n",
      "x=148, y=1432874580\n",
      "x=149, y=1472039838\n",
      "x=150, y=1512002550\n",
      "x=151, y=1552773468\n",
      "x=152, y=1594363416\n",
      "x=153, y=1636783290\n",
      "x=154, y=1680044058\n",
      "x=155, y=1724156760\n",
      "x=156, y=1769132508\n",
      "x=157, y=1814982486\n",
      "x=158, y=1861717950\n",
      "x=159, y=1909350228\n",
      "x=160, y=1957890720\n",
      "x=161, y=2007350898\n",
      "x=162, y=2057742306\n",
      "x=163, y=2109076560\n",
      "x=164, y=2161365348\n",
      "x=165, y=2214620430\n",
      "x=166, y=2268853638\n",
      "x=167, y=2324076876\n",
      "x=168, y=2380302120\n",
      "x=169, y=2437541418\n",
      "x=170, y=2495806890\n",
      "x=171, y=2555110728\n",
      "x=172, y=2615465196\n",
      "x=173, y=2676882630\n",
      "x=174, y=2739375438\n",
      "x=175, y=2802956100\n",
      "x=176, y=2867637168\n",
      "x=177, y=2933431266\n",
      "x=178, y=3000351090\n",
      "x=179, y=3068409408\n",
      "x=180, y=3137619060\n",
      "x=181, y=3207992958\n",
      "x=182, y=3279544086\n",
      "x=183, y=3352285500\n",
      "x=184, y=3426230328\n",
      "x=185, y=3501391770\n",
      "x=186, y=3577783098\n",
      "x=187, y=3655417656\n",
      "x=188, y=3734308860\n",
      "x=189, y=3814470198\n",
      "x=190, y=3895915230\n",
      "x=191, y=3978657588\n",
      "x=192, y=4062710976\n",
      "x=193, y=4148089170\n",
      "x=194, y=4234806018\n",
      "x=195, y=4322875440\n",
      "x=196, y=4412311428\n",
      "x=197, y=4503128046\n",
      "x=198, y=4595339430\n",
      "x=199, y=4688959788\n"
     ]
    }
   ],
   "source": [
    "for x in range(1,200):\n",
    "    y=3*x**4-2*x**3+17*x\n",
    "    print(f\"x={x}, y={y}\")\n",
    "    "
   ]
  },
  {
   "cell_type": "code",
   "execution_count": 22,
   "id": "abcd2557",
   "metadata": {},
   "outputs": [
    {
     "name": "stdout",
     "output_type": "stream",
     "text": [
      "[18, 66, 240, 708, 1710, 3558, 6636, 11400, 18378, 28170, 41448, 58956, 81510, 109998, 145380, 188688, 241026, 303570, 377568, 464340, 565278, 681846, 815580, 968088, 1141050, 1336218, 1555416, 1800540, 2073558, 2376510, 2711508, 3080736, 3486450, 3930978, 4416720, 4946148, 5521806, 6146310, 6822348, 7552680, 8340138, 9187626, 10098120, 11074668, 12120390, 13238478, 14432196, 15704880, 17059938, 18500850, 20031168, 21654516, 23374590, 25195158, 27120060, 29153208, 31298586, 33560250, 35942328, 38449020, 41084598, 43853406, 46759860, 49808448, 53003730, 56350338, 59852976, 63516420, 67345518, 71345190, 75520428, 79876296, 84417930, 89150538, 94079400, 99209868, 104547366, 110097390, 115865508, 121857360, 128078658, 134535186, 141232800, 148177428, 155375070, 162831798, 170553756, 178547160, 186818298, 195373530, 204219288, 213362076, 222808470, 232565118, 242638740, 253036128, 263764146, 274829730, 286239888, 298001700, 310122318, 322608966, 335468940, 348709608, 362338410, 376362858, 390790536, 405629100, 420886278, 436569870, 452687748, 469247856, 486258210, 503726898, 521662080, 540071988, 558964926, 578349270, 598233468, 618626040, 639535578, 660970746, 682940280, 705452988, 728517750, 752143518, 776339316, 801114240, 826477458, 852438210, 879005808, 906189636, 933999150, 962443878, 991533420, 1021277448, 1051685706, 1082768010, 1114534248, 1146994380, 1180158438, 1214036526, 1248638820, 1283975568, 1320057090, 1356893778, 1394496096, 1432874580, 1472039838, 1512002550, 1552773468, 1594363416, 1636783290, 1680044058, 1724156760, 1769132508, 1814982486, 1861717950, 1909350228, 1957890720, 2007350898, 2057742306, 2109076560, 2161365348, 2214620430, 2268853638, 2324076876, 2380302120, 2437541418, 2495806890, 2555110728, 2615465196, 2676882630, 2739375438, 2802956100, 2867637168, 2933431266, 3000351090, 3068409408, 3137619060, 3207992958, 3279544086, 3352285500, 3426230328, 3501391770, 3577783098, 3655417656, 3734308860, 3814470198, 3895915230, 3978657588, 4062710976, 4148089170, 4234806018, 4322875440, 4412311428, 4503128046, 4595339430, 4688959788]\n"
     ]
    }
   ],
   "source": [
    "y=[3*x**4-2*x**3+17*x for x in range(1,200)]\n",
    "print(y)"
   ]
  },
  {
   "cell_type": "markdown",
   "id": "58f31c82",
   "metadata": {},
   "source": [
    "4. Solve the following equation for $x$:\n",
    "\n",
    "$x = p^2 + 2pq + q^2$ where $0<p<1$ and $q=1-p$ over the range of P values provided below. "
   ]
  },
  {
   "cell_type": "code",
   "execution_count": 24,
   "id": "5d503dc5",
   "metadata": {},
   "outputs": [],
   "source": [
    "# Here are the range of p's you will need (note 0<p<1 and the Set P variable is capitalized.)\n",
    "P = [0.0, 0.2, 0.33, 0.5, 0.66666667, 0.99]\n",
    "\n",
    "\n",
    "# First define a function `q` that takes p as an argument and returns q (ie. q=1-p)\n",
    "\n"
   ]
  },
  {
   "cell_type": "code",
   "execution_count": 23,
   "id": "de8d376b",
   "metadata": {},
   "outputs": [],
   "source": [
    "def qfun(p):\n",
    "    return 1-p\n"
   ]
  },
  {
   "cell_type": "code",
   "execution_count": 25,
   "id": "12d2d7eb",
   "metadata": {},
   "outputs": [
    {
     "name": "stdout",
     "output_type": "stream",
     "text": [
      "p=0.0, x=1.0\n",
      "p=0.2, x=1.0000000000000002\n",
      "p=0.33, x=1.0\n",
      "p=0.5, x=1.0\n",
      "p=0.66666667, x=0.9999999999999999\n",
      "p=0.99, x=1.0\n"
     ]
    }
   ],
   "source": [
    "for p in P:\n",
    "    q=qfun(p)\n",
    "    x=p**2+2*p*q+q**2\n",
    "    print(f\"p={p}, x={x}\")"
   ]
  },
  {
   "cell_type": "markdown",
   "id": "ceefacd0",
   "metadata": {},
   "source": [
    "Using either a list comprehension or a for-loop along with your newly created `q` function, \n",
    "\n",
    "**translate the above formula and calculate the solution over the values in `P`**"
   ]
  },
  {
   "cell_type": "code",
   "execution_count": null,
   "id": "a762b758",
   "metadata": {},
   "outputs": [],
   "source": [
    "# Below is a pseudocode template to help you get started\n",
    "\n",
    "for p in P:\n",
    "#     Find q for given p\n",
    "#     x = ??? # put your formula here using p and q\n",
    "#     print(x)"
   ]
  },
  {
   "cell_type": "markdown",
   "id": "779b27bb",
   "metadata": {},
   "source": [
    "_Bonus points: What is the name of this formula and what does it describe?_"
   ]
  },
  {
   "cell_type": "markdown",
   "id": "dcf71e20",
   "metadata": {},
   "source": [
    "Answer:"
   ]
  },
  {
   "cell_type": "markdown",
   "id": "14e581e1-b301-4ab9-8ee8-f2dccbd4f77d",
   "metadata": {
    "tags": []
   },
   "source": [
    "#### Bonus Problem\n",
    "\n",
    "5. Write a function that takes a DNA sequence as an argument and:\n",
    "    * a) Checks to make sure that the DNA sequence uses only appropriate nucleotides\n",
    "    * b) Returns a tuple containing the GC content, length, and reverse complement sequence of the input DNA molecule\n",
    "    \n",
    "**Hint:** _you can define functions for each of the requested properties and another function to create/organize the output_"
   ]
  },
  {
   "cell_type": "code",
   "execution_count": null,
   "id": "4d6dd946",
   "metadata": {},
   "outputs": [],
   "source": [
    "def is_DNA(seq):\n",
    "    "
   ]
  },
  {
   "cell_type": "code",
   "execution_count": 40,
   "id": "a9f71439",
   "metadata": {},
   "outputs": [],
   "source": [
    "seq='ATCGaACT'"
   ]
  },
  {
   "cell_type": "code",
   "execution_count": 42,
   "id": "baad90eb",
   "metadata": {},
   "outputs": [
    {
     "data": {
      "text/plain": [
       "[True, True, True, True, False, True, True, True]"
      ]
     },
     "execution_count": 42,
     "metadata": {},
     "output_type": "execute_result"
    }
   ],
   "source": [
    "good=[base in ['A','C','G','T'] for base in seq]\n",
    "good\n"
   ]
  },
  {
   "cell_type": "code",
   "execution_count": 38,
   "id": "41bdd1c2",
   "metadata": {},
   "outputs": [
    {
     "data": {
      "text/plain": [
       "False"
      ]
     },
     "execution_count": 38,
     "metadata": {},
     "output_type": "execute_result"
    }
   ],
   "source": [
    "all(good)"
   ]
  },
  {
   "cell_type": "code",
   "execution_count": 26,
   "id": "339c6aad-b7f6-4989-a44b-fb14a1f6da39",
   "metadata": {},
   "outputs": [
    {
     "ename": "TypeError",
     "evalue": "main() takes 0 positional arguments but 1 was given",
     "output_type": "error",
     "traceback": [
      "\u001b[31m---------------------------------------------------------------------------\u001b[39m",
      "\u001b[31mTypeError\u001b[39m                                 Traceback (most recent call last)",
      "\u001b[36mCell\u001b[39m\u001b[36m \u001b[39m\u001b[32mIn[26]\u001b[39m\u001b[32m, line 24\u001b[39m\n\u001b[32m     22\u001b[39m \u001b[38;5;66;03m# Test your main() function with the following sequence\u001b[39;00m\n\u001b[32m     23\u001b[39m test_seq = \u001b[33m'\u001b[39m\u001b[33mCAGTACGATCTTGACGGTACG\u001b[39m\u001b[33m'\u001b[39m\n\u001b[32m---> \u001b[39m\u001b[32m24\u001b[39m \u001b[38;5;28mprint\u001b[39m(\u001b[43mmain\u001b[49m\u001b[43m(\u001b[49m\u001b[43mtest_seq\u001b[49m\u001b[43m)\u001b[49m)\n",
      "\u001b[31mTypeError\u001b[39m: main() takes 0 positional arguments but 1 was given"
     ]
    }
   ],
   "source": [
    "def is_DNA():\n",
    "    \"\"\"Test whether a given sequence is a valid DNA sequence (ie contains only ATGC bases).\n",
    "    Should return True or False depending on whether the sequence is valid.\"\"\"\n",
    "    return is_valid\n",
    "\n",
    "\n",
    "def calc_GC():\n",
    "    \"\"\"Calculate the GC percent of the DNA sequence passed in as an argument.\"\"\"\n",
    "    return gc\n",
    "\n",
    "def reverse_complement():\n",
    "    \"\"\"Take a DNA sequence (seq) and return the reverse complement\n",
    "    Hint: you can create a dictionary of complemntary bases and use that to look up the complement of a given base\n",
    "    \"\"\"\n",
    "    complements = {}\n",
    "    return revcomp\n",
    "    \n",
    "def main():\n",
    "    # Your 'main' function to take an input sequence and process as described above\n",
    "    return (gc, length, revcomp)\n",
    "\n",
    "# Test your main() function with the following sequence\n",
    "test_seq = 'CAGTACGATCTTGACGGTACG'\n",
    "print(main(test_seq))"
   ]
  },
  {
   "cell_type": "code",
   "execution_count": 43,
   "id": "175ddf19",
   "metadata": {},
   "outputs": [],
   "source": [
    "seq=\"ACTCACTACGTAA\""
   ]
  },
  {
   "cell_type": "code",
   "execution_count": 45,
   "id": "cca29e5d",
   "metadata": {},
   "outputs": [
    {
     "data": {
      "text/plain": [
       "'AATGCATCACTCA'"
      ]
     },
     "execution_count": 45,
     "metadata": {},
     "output_type": "execute_result"
    }
   ],
   "source": [
    "rev=seq[::-1]\n",
    "rev"
   ]
  },
  {
   "cell_type": "code",
   "execution_count": 46,
   "id": "331999a7",
   "metadata": {},
   "outputs": [],
   "source": [
    "complements={\"A\":\"T\", \"T\":\"A\", \"C\":\"G\", \"G\":\"C\"}"
   ]
  },
  {
   "cell_type": "code",
   "execution_count": 53,
   "id": "5cea508e",
   "metadata": {},
   "outputs": [
    {
     "name": "stdout",
     "output_type": "stream",
     "text": [
      "aatCGatGaGtGa\n"
     ]
    }
   ],
   "source": [
    "print(revcomp.replace(\"A\",\"t\").replace(\"T\",\"a\"))"
   ]
  },
  {
   "cell_type": "code",
   "execution_count": 56,
   "id": "b9118f42",
   "metadata": {},
   "outputs": [
    {
     "data": {
      "text/plain": [
       "{'A': 'T', 'T': 'A', 'C': 'G', 'G': 'C'}"
      ]
     },
     "execution_count": 56,
     "metadata": {},
     "output_type": "execute_result"
    }
   ],
   "source": [
    "complements"
   ]
  },
  {
   "cell_type": "code",
   "execution_count": 57,
   "id": "c24ef53e",
   "metadata": {},
   "outputs": [
    {
     "data": {
      "text/plain": [
       "{65: 'T', 84: 'A', 67: 'G', 71: 'C'}"
      ]
     },
     "execution_count": 57,
     "metadata": {},
     "output_type": "execute_result"
    }
   ],
   "source": [
    "comptable=str.maketrans(complements)\n",
    "comptable"
   ]
  },
  {
   "cell_type": "code",
   "execution_count": 58,
   "id": "c728a03b",
   "metadata": {},
   "outputs": [
    {
     "data": {
      "text/plain": [
       "'AATGCATCACTCA'"
      ]
     },
     "execution_count": 58,
     "metadata": {},
     "output_type": "execute_result"
    }
   ],
   "source": [
    "rev.translate(complements)"
   ]
  },
  {
   "cell_type": "code",
   "execution_count": 49,
   "id": "12d0e216",
   "metadata": {},
   "outputs": [
    {
     "data": {
      "text/plain": [
       "'TTACGTAGTGAGT'"
      ]
     },
     "execution_count": 49,
     "metadata": {},
     "output_type": "execute_result"
    }
   ],
   "source": [
    "revcomp=\"\"\n",
    "for base in rev:\n",
    "    revcomp+=complements[base]\n",
    "revcomp"
   ]
  },
  {
   "cell_type": "code",
   "execution_count": null,
   "id": "fc0aab04",
   "metadata": {},
   "outputs": [],
   "source": []
  },
  {
   "cell_type": "code",
   "execution_count": null,
   "id": "b8146dec",
   "metadata": {},
   "outputs": [],
   "source": [
    "revcomp="
   ]
  },
  {
   "cell_type": "markdown",
   "id": "d9a32675-3c1b-4f05-ae71-301c0aad6d4c",
   "metadata": {},
   "source": [
    "c) Apply your main function(s) to calculate the above parameters of interest (b) for the following of sequences in the `dna_seqs` list."
   ]
  },
  {
   "cell_type": "code",
   "execution_count": null,
   "id": "ee214c22-ed58-454d-bb56-e7198d6ada40",
   "metadata": {},
   "outputs": [],
   "source": [
    "dna_seqs=[\n",
    "    'TTATCAGCGGATTATTAGGTATAGTGCTATGC',\n",
    "    'CGAGATTAGCGATTTGTG',\n",
    "    'GGTATACTCTGCACGACGAGCGAGCGACGGACGACGGCICGATCTATCTA'\n",
    "    'ACGTACGTACGTACGTACGTACGTACGTACGTACGT',\n",
    "    'tacgagctactgagcgatcggatcgtacgtagc',\n",
    "    'AAAAAAAAAAAAAAAAAAAAAAAAAAAAAAAAAAAAAAAAAAAAAA',\n",
    "    'GGCTTAATATCGAGCTAGTAGTCTATTCTAGCGAGCGACTATTCGACTATCGATGCTATCTGCGCAGCGAGCATCGAGCGCTATCGAGCTAGCTAGCTAGCTATCATCGAGCTACTAGCATCTGATTATTCTTTAGCGCGACGACT'\n",
    "]\n"
   ]
  }
 ],
 "metadata": {
  "kernelspec": {
   "display_name": "base",
   "language": "python",
   "name": "python3"
  },
  "language_info": {
   "codemirror_mode": {
    "name": "ipython",
    "version": 3
   },
   "file_extension": ".py",
   "mimetype": "text/x-python",
   "name": "python",
   "nbconvert_exporter": "python",
   "pygments_lexer": "ipython3",
   "version": "3.12.11"
  }
 },
 "nbformat": 4,
 "nbformat_minor": 5
}
