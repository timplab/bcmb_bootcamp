{
 "cells": [
  {
   "cell_type": "markdown",
   "id": "65afb152",
   "metadata": {},
   "source": [
    "# Day 3 Homework"
   ]
  },
  {
   "cell_type": "markdown",
   "id": "96e5ef37",
   "metadata": {},
   "source": [
    "1. Here are 25 numbers drawn from a normal distribution. Calculate the mean, standard deviation, and variance of the set.\n",
    "\n",
    "    **Do the mean calculation manually, and then use the built-in functions provided in the **statistics** module for the others.**\n",
    "\n",
    "    **Hint**: The functions `sum`, `len`, `statistics.stdev`, and `statistics.variance` will be useful.\n",
    "    Use the `help` function to learn more about them, if needed."
   ]
  },
  {
   "cell_type": "code",
   "execution_count": null,
   "id": "68e51639",
   "metadata": {},
   "outputs": [],
   "source": [
    "import random\n",
    "import statistics\n",
    "\n",
    "#help(len)\n",
    " \n",
    "def sample_normal(mean, sd, n = 1, seed = 42):\n",
    "    \"\"\"Draw n samples from a normal distribution with given mean and standard deviation\"\"\"\n",
    "    random.seed(seed)\n",
    "    return [random.normalvariate(mean, sd) for _ in range(n)]\n",
    "\n",
    "my_samples = sample_normal(10, 1, n=25) \n",
    "print(my_samples) \n",
    " \n",
    "## your manual mean calculation code here\n",
    "\n",
    "## calculate mean, sd, and variance using statistics module\n"
   ]
  },
  {
   "cell_type": "markdown",
   "id": "42ecf210",
   "metadata": {},
   "source": [
    "From *my_samples* above, print out the following:\n",
    "- The first five elements (remember that python begins with index 0)\n",
    "- The last five elements\n",
    "- The 13th and 14th elements"
   ]
  },
  {
   "cell_type": "code",
   "execution_count": null,
   "id": "07850c76",
   "metadata": {},
   "outputs": [],
   "source": []
  },
  {
   "cell_type": "markdown",
   "id": "575dff49",
   "metadata": {},
   "source": [
    "2. You are given a sample of a DNA plasmid with a known concentration of 1.85ug/uL and a length of 1,354 bases, and are asked to calculate the molarity of the sample. \n",
    "\n",
    "  * Create a function to calculate the molarity of a double-stranded DNA molecule given this information. (Google is your friend here to find the formula and the molecular weight for an 'average' oligonucleotide base pair)."
   ]
  },
  {
   "cell_type": "code",
   "execution_count": null,
   "id": "be5d15c3",
   "metadata": {},
   "outputs": [],
   "source": [
    "def calc_molarity(plasmid_length, conc):\n",
    "\n",
    "    return mol\n",
    "\n",
    "\n",
    "# Test your function with the above values\n",
    "plasmid_length = 1354\n",
    "conc = 1.85\n",
    "\n",
    "calc_molarity(plasmid_length, conc)"
   ]
  },
  {
   "cell_type": "markdown",
   "id": "07715398",
   "metadata": {},
   "source": [
    "  * You receive another plasmid with a length of 2,500 bases. You make a series of 10 dilutions ranging from 0-10ug/ul. Construct a loop to calculate the molarity of each dilution. (hint: help(range))"
   ]
  },
  {
   "cell_type": "code",
   "execution_count": null,
   "id": "0975d126",
   "metadata": {},
   "outputs": [],
   "source": []
  },
  {
   "cell_type": "markdown",
   "id": "2d859cdc",
   "metadata": {},
   "source": [
    "3. Using either a for loop or a list comprehension approach, translate the following formulae and solve for the indicated range of values\n",
    "\n",
    "* $x^2$ for $x:\\{0 ... 9\\}$"
   ]
  },
  {
   "cell_type": "code",
   "execution_count": null,
   "id": "2fc6c680",
   "metadata": {},
   "outputs": [],
   "source": []
  },
  {
   "cell_type": "markdown",
   "id": "d104a2bf",
   "metadata": {},
   "source": [
    "* $2^x$ for all even numbers between 0 and 20"
   ]
  },
  {
   "cell_type": "code",
   "execution_count": null,
   "id": "4ca32984",
   "metadata": {},
   "outputs": [],
   "source": []
  },
  {
   "cell_type": "markdown",
   "id": "c19f4c19",
   "metadata": {},
   "source": [
    "* $3x^4-2x^3+17x$ for $x:\\{1 ... 200\\}$"
   ]
  },
  {
   "cell_type": "code",
   "execution_count": null,
   "id": "cf3ad1cf",
   "metadata": {},
   "outputs": [],
   "source": []
  },
  {
   "cell_type": "markdown",
   "id": "58f31c82",
   "metadata": {},
   "source": [
    "4. Solve the following equation for $x$:\n",
    "\n",
    "$x = p^2 + 2pq + q^2$ where $0<p<1$ and $q=1-p$ over the range of P values provided below. "
   ]
  },
  {
   "cell_type": "code",
   "execution_count": null,
   "id": "5d503dc5",
   "metadata": {},
   "outputs": [],
   "source": [
    "# Here are the range of p's you will need (note 0<p<1 and the Set P variable is capitalized.)\n",
    "P = [0.0, 0.2, 0.33, 0.5, 0.66666667, 0.99]\n",
    "\n",
    "\n",
    "# First define a function `q` that takes p as an argument and returns q (ie. q=1-p)\n",
    "\n"
   ]
  },
  {
   "cell_type": "markdown",
   "id": "ceefacd0",
   "metadata": {},
   "source": [
    "Using either a list comprehension or a for-loop along with your newly created `q` function, \n",
    "\n",
    "**translate the above formula and calculate the solution over the values in `P`**"
   ]
  },
  {
   "cell_type": "code",
   "execution_count": null,
   "id": "a762b758",
   "metadata": {},
   "outputs": [],
   "source": [
    "# Below is a pseudocode template to help you get started\n",
    "\n",
    "for p in P:\n",
    "#     Find q for given p\n",
    "#     x = ??? # put your formula here using p and q\n",
    "#     print(x)"
   ]
  },
  {
   "cell_type": "markdown",
   "id": "779b27bb",
   "metadata": {},
   "source": [
    "_Bonus points: What is the name of this formula and what does it describe?_"
   ]
  },
  {
   "cell_type": "markdown",
   "id": "dcf71e20",
   "metadata": {},
   "source": [
    "Answer:"
   ]
  },
  {
   "cell_type": "markdown",
   "id": "14e581e1-b301-4ab9-8ee8-f2dccbd4f77d",
   "metadata": {
    "tags": []
   },
   "source": [
    "#### Bonus Problem\n",
    "\n",
    "5. Write a function that takes a DNA sequence as an argument and:\n",
    "    * a) Checks to make sure that the DNA sequence uses only appropriate nucleotides\n",
    "    * b) Returns a tuple containing the GC content, length, and reverse complement sequence of the input DNA molecule\n",
    "    \n",
    "**Hint:** _you can define functions for each of the requested properties and another function to create/organize the output_"
   ]
  },
  {
   "cell_type": "code",
   "execution_count": null,
   "id": "339c6aad-b7f6-4989-a44b-fb14a1f6da39",
   "metadata": {},
   "outputs": [],
   "source": [
    "def is_DNA():\n",
    "    \"\"\"Test whether a given sequence is a valid DNA sequence (ie contains only ATGC bases).\n",
    "    Should return True or False depending on whether the sequence is valid.\"\"\"\n",
    "    return is_valid\n",
    "\n",
    "\n",
    "def calc_GC():\n",
    "    \"\"\"Calculate the GC percent of the DNA sequence passed in as an argument.\"\"\"\n",
    "    return gc\n",
    "\n",
    "def reverse_complement():\n",
    "    \"\"\"Take a DNA sequence (seq) and return the reverse complement\n",
    "    Hint: you can create a dictionary of complemntary bases and use that to look up the complement of a given base\n",
    "    \"\"\"\n",
    "    complements = {}\n",
    "    return revcomp\n",
    "    \n",
    "def main():\n",
    "    # Your 'main' function to take an input sequence and process as described above\n",
    "    return (gc, length, revcomp)\n",
    "\n",
    "# Test your main() function with the following sequence\n",
    "test_seq = 'CAGTACGATCTTGACGGTACG'\n",
    "print(main(test_seq))"
   ]
  },
  {
   "cell_type": "markdown",
   "id": "d9a32675-3c1b-4f05-ae71-301c0aad6d4c",
   "metadata": {},
   "source": [
    "c) Apply your main function(s) to calculate the above parameters of interest (b) for the following of sequences in the `dna_seqs` list."
   ]
  },
  {
   "cell_type": "code",
   "execution_count": null,
   "id": "ee214c22-ed58-454d-bb56-e7198d6ada40",
   "metadata": {},
   "outputs": [],
   "source": [
    "dna_seqs=[\n",
    "    'TTATCAGCGGATTATTAGGTATAGTGCTATGC',\n",
    "    'CGAGATTAGCGATTTGTG',\n",
    "    'GGTATACTCTGCACGACGAGCGAGCGACGGACGACGGCICGATCTATCTA'\n",
    "    'ACGTACGTACGTACGTACGTACGTACGTACGTACGT',\n",
    "    'tacgagctactgagcgatcggatcgtacgtagc',\n",
    "    'AAAAAAAAAAAAAAAAAAAAAAAAAAAAAAAAAAAAAAAAAAAAAA',\n",
    "    'GGCTTAATATCGAGCTAGTAGTCTATTCTAGCGAGCGACTATTCGACTATCGATGCTATCTGCGCAGCGAGCATCGAGCGCTATCGAGCTAGCTAGCTAGCTATCATCGAGCTACTAGCATCTGATTATTCTTTAGCGCGACGACT'\n",
    "]\n"
   ]
  }
 ],
 "metadata": {
  "interpreter": {
   "hash": "f830f5482817da8c94e7b92359ddd59f62b3b721ee2e7f2ba7b076c4827b6548"
  },
  "kernelspec": {
   "display_name": "Python 3",
   "language": "python",
   "name": "python3"
  },
  "language_info": {
   "codemirror_mode": {
    "name": "ipython",
    "version": 3
   },
   "file_extension": ".py",
   "mimetype": "text/x-python",
   "name": "python",
   "nbconvert_exporter": "python",
   "pygments_lexer": "ipython3",
   "version": "3.10.14"
  }
 },
 "nbformat": 4,
 "nbformat_minor": 5
}
