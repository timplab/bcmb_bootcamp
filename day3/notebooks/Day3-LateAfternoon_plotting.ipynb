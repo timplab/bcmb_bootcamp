{
 "cells": [
  {
   "cell_type": "markdown",
   "metadata": {},
   "source": [
    "# Visualizating your data"
   ]
  },
  {
   "cell_type": "markdown",
   "metadata": {},
   "source": [
    "## Why visualization is important"
   ]
  },
  {
   "cell_type": "markdown",
   "metadata": {},
   "source": [
    "Visualizating your data is very important. A mistake a lot of people make is to just keep it as numbers or process it in aggregate without _looking_ at the actual results of their experiments or data."
   ]
  },
  {
   "cell_type": "markdown",
   "metadata": {},
   "source": [
    "## Plotting with matplotlib"
   ]
  },
  {
   "cell_type": "markdown",
   "metadata": {},
   "source": [
    "The base plotting package that (arguably) works best with Jupyter and python is `matplotlib`.  You should install it with `mamba install matplotlib` in your terminal. The best way to integrate it into our notebooks is to use the python \"magic\" command `%matplotlib inline` like so:"
   ]
  },
  {
   "cell_type": "code",
   "execution_count": null,
   "metadata": {},
   "outputs": [],
   "source": [
    "%matplotlib inline"
   ]
  },
  {
   "cell_type": "markdown",
   "metadata": {},
   "source": [
    "This tells jupyter to put the plots _right in the notebook_ for us, allowing us to visualize the data as we are exploring it.  \n",
    "Let's look at at an initial simple plot.  \n",
    "First we have to import the modules we need - numpy, pandas, and matplotlib.  Install them with `mamba install numpy pandas matplotlib` in your terminal.\n",
    "\n",
    "Then we'll import them as:"
   ]
  },
  {
   "cell_type": "code",
   "execution_count": null,
   "metadata": {},
   "outputs": [],
   "source": [
    "import numpy as np\n",
    "import pandas as pd\n",
    "import matplotlib.pyplot as plt"
   ]
  },
  {
   "cell_type": "markdown",
   "metadata": {},
   "source": [
    "Let's start by plotting some basic triginometric functions!  \n",
    "The first thing we have to do is setup x values from 0 to 2$\\pi$ - let's make 50 values. To do this, we'll use the `linspace` function in numpy, which needs a start, an end point, and the number of points:"
   ]
  },
  {
   "cell_type": "code",
   "execution_count": null,
   "metadata": {},
   "outputs": [],
   "source": [
    "rad=np.linspace(0.0, 2*np.pi, 50)\n",
    "rad"
   ]
  },
  {
   "cell_type": "markdown",
   "metadata": {},
   "source": [
    "Ok - now let's find the cosine of these numbers:"
   ]
  },
  {
   "cell_type": "code",
   "execution_count": null,
   "metadata": {},
   "outputs": [],
   "source": [
    "y_sin=np.sin(rad)\n",
    "y_sin"
   ]
  },
  {
   "cell_type": "code",
   "execution_count": null,
   "metadata": {},
   "outputs": [],
   "source": [
    "y_cos=np.cos(rad)\n",
    "y_cos"
   ]
  },
  {
   "cell_type": "markdown",
   "metadata": {},
   "source": [
    "It's nice to be able to look at these values, but wouldn't it be even better to **plot** them?  \n",
    "Let's try matplotlib first"
   ]
  },
  {
   "cell_type": "code",
   "execution_count": null,
   "metadata": {},
   "outputs": [],
   "source": [
    "plt.plot(rad, y_sin)"
   ]
  },
  {
   "cell_type": "markdown",
   "metadata": {},
   "source": [
    "But what if we want to plot sin _and_ cos on the same plot? Easy:"
   ]
  },
  {
   "cell_type": "code",
   "execution_count": null,
   "metadata": {},
   "outputs": [],
   "source": [
    "y_cos=np.cos(rad)\n",
    "plt.plot(rad,y_sin)\n",
    "plt.plot(rad,y_cos)"
   ]
  },
  {
   "cell_type": "markdown",
   "metadata": {},
   "source": [
    "Now let's say I want to change _how_ it's plotted. Let's instead plot the cos as _red points_ and the sin as a _green line_.   \n",
    "Because I can never remember the rules for this, I'll just look in the documentation for the `plot` command: <https://matplotlib.org/3.3.1/api/_as_gen/matplotlib.pyplot.plot.html>   \n",
    "It turns out for green I use `g` and for red I use `r`"
   ]
  },
  {
   "cell_type": "code",
   "execution_count": null,
   "metadata": {},
   "outputs": [],
   "source": [
    "plt.plot(rad,y_sin,'g')\n",
    "plt.plot(rad,y_cos,'r')"
   ]
  },
  {
   "cell_type": "markdown",
   "metadata": {},
   "source": [
    "Now I want to have circular markers instead of a line for cosine - that's `o` and for sine I want a line - that's `-`."
   ]
  },
  {
   "cell_type": "code",
   "execution_count": null,
   "metadata": {},
   "outputs": [],
   "source": [
    "plt.plot(rad,y_sin,'g--')\n",
    "plt.plot(rad,y_cos,'r^')"
   ]
  },
  {
   "cell_type": "markdown",
   "metadata": {},
   "source": [
    "Ok - now what if I don't want to plot the _entire_ range of my data, but instead I want to plot just a subset - to zoom in on a specific part?  We can do that by setting the *limits* of the plot using `xlim` and `ylim` (<https://matplotlib.org/3.1.1/api/_as_gen/matplotlib.pyplot.xlim.html#matplotlib.pyplot.xlim>) - here I'll zoom in on just the region between 2 and 4 on the x-axis and -1.1 and 0 on the y-axis"
   ]
  },
  {
   "cell_type": "code",
   "execution_count": null,
   "metadata": {},
   "outputs": [],
   "source": [
    "plt.plot(rad,y_sin,'g-')\n",
    "plt.plot(rad,y_cos,'ro')\n",
    "plt.xlim(2,4)\n",
    "plt.ylim(-1.1,0)"
   ]
  },
  {
   "cell_type": "markdown",
   "metadata": {},
   "source": [
    "But these x-axis labels aren't super useful actually - we are plotting in radians, so we should probably label as $\\pi$, etc.  We can do that by setting what the axis \"tick-marks\" are using `xticks` <https://matplotlib.org/3.1.1/api/_as_gen/matplotlib.pyplot.xticks.html#matplotlib.pyplot.xticks> - notice that we enclose the \"list\" of locations in square brackets:"
   ]
  },
  {
   "cell_type": "code",
   "execution_count": null,
   "metadata": {},
   "outputs": [],
   "source": [
    "plt.plot(rad,y_sin,'g-')\n",
    "plt.plot(rad,y_cos,'ro')\n",
    "plt.xticks([0, np.pi/2, np.pi, 3*np.pi/2, 2*np.pi])"
   ]
  },
  {
   "cell_type": "markdown",
   "metadata": {},
   "source": [
    "But I don't like those numbers (though I do remember that $\\pi \\approx 3.142$) so I want to _also_ tell the plot what text to label the plot with"
   ]
  },
  {
   "cell_type": "code",
   "execution_count": null,
   "metadata": {},
   "outputs": [],
   "source": [
    "plt.plot(rad,y_sin,'g-')\n",
    "plt.plot(rad,y_cos,'ro')\n",
    "plt.xticks([0, np.pi/2, np.pi, 3*np.pi/2, 2*np.pi], ['0', '$\\\\pi$/2', '$\\\\pi$', '3$\\\\pi$/2', '2$\\\\pi$'])"
   ]
  },
  {
   "cell_type": "markdown",
   "metadata": {},
   "source": [
    "Now I want to put nice titles on the plot, because my PI never knows what the axes mean. We can do this with `xlabel` and `ylabel` <https://matplotlib.org/3.1.1/api/_as_gen/matplotlib.pyplot.xlabel.html#matplotlib.pyplot.xlabel>.  We can even put a title on the plot with `title`"
   ]
  },
  {
   "cell_type": "code",
   "execution_count": null,
   "metadata": {},
   "outputs": [],
   "source": [
    "plt.plot(rad,y_sin,'g-')\n",
    "plt.plot(rad,y_cos,'ro')\n",
    "plt.xticks([0, np.pi/2, np.pi, 3*np.pi/2, 2*np.pi], ['0', '$\\\\pi$/2', '$\\\\pi$', '3$\\\\pi$/2', '2$\\\\pi$'])\n",
    "plt.xlabel('Radians')\n",
    "plt.ylabel('Values')\n",
    "plt.title('My Trigonometry Plot')"
   ]
  },
  {
   "cell_type": "markdown",
   "metadata": {},
   "source": [
    "This is fine, but I don't know what the red dots and the green lines are from just looking at the plot (though the beauty of python notebooks is that I can figure it out by looking at the code and my variable names).  Let's add a legend, using the `legend` command <https://matplotlib.org/3.1.1/api/_as_gen/matplotlib.pyplot.legend.html#matplotlib.pyplot.legend>: "
   ]
  },
  {
   "cell_type": "code",
   "execution_count": null,
   "metadata": {},
   "outputs": [],
   "source": [
    "plt.plot(rad,y_sin,'g-')\n",
    "plt.plot(rad,y_cos,'ro')\n",
    "plt.xticks([0, np.pi/2, np.pi, 3*np.pi/2, 2*np.pi], ['0', '$\\\\pi$/2', '$\\\\pi$', '3$\\\\pi$/2', '2$\\\\pi$'])\n",
    "plt.xlabel('Radians')\n",
    "plt.ylabel('Values')\n",
    "plt.title('My Trigonometry Plot')\n",
    "plt.legend(['Sin', 'Cos'])"
   ]
  },
  {
   "cell_type": "markdown",
   "metadata": {},
   "source": [
    "Finally, we might want to not just have the plot in our notebook, but actually save it to a file to put in a presentation or in a paper. We can do that with `savefig` <https://matplotlib.org/3.1.1/api/_as_gen/matplotlib.pyplot.savefig.html#matplotlib.pyplot.savefig>.  Savefig is pretty smart, it can figure out from the name of the file you give it what type of file to make, I suggest mostly using either `png` or `pdf`"
   ]
  },
  {
   "cell_type": "code",
   "execution_count": null,
   "metadata": {},
   "outputs": [],
   "source": [
    "plt.plot(rad,y_sin,'g-')\n",
    "plt.plot(rad,y_cos,'ro')\n",
    "plt.xticks([0, np.pi/2, np.pi, 3*np.pi/2, 2*np.pi], ['0', '$\\\\pi$/2', '$\\\\pi$', '3$\\\\pi$/2', '2$\\\\pi$'])\n",
    "plt.xlabel('Radians')\n",
    "plt.ylabel('Values')\n",
    "plt.title('My Trigonometry Plot')\n",
    "plt.legend(['Sin', 'Cos'])\n",
    "plt.savefig('trig.pdf')"
   ]
  },
  {
   "cell_type": "markdown",
   "metadata": {},
   "source": [
    "### Exercise: \n",
    "From what you have learned, plot sin^2, cos^2 and sin^2+cos^2.  As a tip, look at numpy.square to square the values (<https://numpy.org/doc/stable/reference/generated/numpy.square.html>)"
   ]
  },
  {
   "cell_type": "code",
   "execution_count": null,
   "metadata": {},
   "outputs": [],
   "source": []
  }
 ],
 "metadata": {
  "kernelspec": {
   "display_name": "Python 3 (ipykernel)",
   "language": "python",
   "name": "python3"
  },
  "language_info": {
   "codemirror_mode": {
    "name": "ipython",
    "version": 3
   },
   "file_extension": ".py",
   "mimetype": "text/x-python",
   "name": "python",
   "nbconvert_exporter": "python",
   "pygments_lexer": "ipython3",
   "version": "3.10.14"
  }
 },
 "nbformat": 4,
 "nbformat_minor": 4
}
