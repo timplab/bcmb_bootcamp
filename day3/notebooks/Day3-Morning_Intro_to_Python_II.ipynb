{
 "cells": [
  {
   "cell_type": "markdown",
   "metadata": {},
   "source": [
    "# Day 3 - Introduction to Python II"
   ]
  },
  {
   "cell_type": "markdown",
   "metadata": {},
   "source": [
    "## List comprehension\n",
    "Remember that a list is defined by items within square brackets `[]`\n",
    "\n",
    "In python you can use 'list comprehension' to create new lists algorithmically by iterating over another list. \n",
    "This is a conceptual extension of a `for` loop, with differences in syntax (how it is written) and that it automatically returns a `list`.\n"
   ]
  },
  {
   "cell_type": "code",
   "execution_count": 1,
   "metadata": {},
   "outputs": [
    {
     "name": "stdout",
     "output_type": "stream",
     "text": [
      "[0, 5, 10, 15, 20, 25, 30, 35, 40, 45]\n"
     ]
    }
   ],
   "source": [
    "# Example for loop\n",
    "solutions = []\n",
    "for x in range(10):\n",
    "    solutions.append(5*x)\n",
    "\n",
    "print(solutions)"
   ]
  },
  {
   "cell_type": "code",
   "execution_count": null,
   "metadata": {},
   "outputs": [],
   "source": [
    "# List comprehension version\n",
    "solutions = [5*x for x in range(10)] # More concise, and faster!\n",
    "\n",
    "print(solutions)"
   ]
  },
  {
   "cell_type": "markdown",
   "metadata": {},
   "source": [
    "List comprehension statements can also include an `if` conditional statement, just like `for` loops.\n"
   ]
  },
  {
   "cell_type": "code",
   "execution_count": 2,
   "metadata": {},
   "outputs": [
    {
     "data": {
      "text/plain": [
       "[0, 5, 10, 15, 20, 25, 30, 35, 40, 45]"
      ]
     },
     "execution_count": 2,
     "metadata": {},
     "output_type": "execute_result"
    }
   ],
   "source": [
    "[num for num in solutions] #returns itself"
   ]
  },
  {
   "cell_type": "code",
   "execution_count": 3,
   "metadata": {},
   "outputs": [
    {
     "data": {
      "text/plain": [
       "[0, 10, 20, 30, 40]"
      ]
     },
     "execution_count": 3,
     "metadata": {},
     "output_type": "execute_result"
    }
   ],
   "source": [
    "[num for num in solutions if num%2 == 0] #returns only values that are even"
   ]
  },
  {
   "cell_type": "markdown",
   "metadata": {},
   "source": [
    "The `range` function seen above generates an object of type `range` that can be used as an iterable in a variety of contexts. It takes up to three arguments, which are the lower bound (inclusive), the upper bound (exclusive, just like slicing), and a step size. This concept works only with integers - you can't define a `range` between two floats!"
   ]
  },
  {
   "cell_type": "code",
   "execution_count": 6,
   "metadata": {},
   "outputs": [
    {
     "name": "stdout",
     "output_type": "stream",
     "text": [
      "range(0, 10)\n",
      "[0, 1, 2, 3, 4, 5, 6, 7, 8, 9]\n"
     ]
    }
   ],
   "source": [
    "type(range(0,10)) #if you don't provide a step size, it defaults to 1\n",
    "\n",
    "print(range(0,10)) #a range object\n",
    "\n",
    "print(list(range(0,10))) #can be expanded by casting to a list"
   ]
  },
  {
   "cell_type": "markdown",
   "metadata": {},
   "source": [
    "## Exercises"
   ]
  },
  {
   "cell_type": "code",
   "execution_count": null,
   "metadata": {},
   "outputs": [],
   "source": [
    "5//2+(5%2)/2 #integer division and modulo"
   ]
  },
  {
   "cell_type": "code",
   "execution_count": null,
   "metadata": {},
   "outputs": [],
   "source": [
    "# examples of range(x,y,z)\n",
    "seq = [x for x in range(20)] #If you only provide range() with one integer, it defaults to starting at 0\n",
    "\n",
    "# use range to find every third number between 1 and 30\n",
    "\n",
    "\n",
    "# use list comprehension to find the odd elements within that set\n",
    "\n"
   ]
  },
  {
   "cell_type": "code",
   "execution_count": 13,
   "metadata": {},
   "outputs": [],
   "source": [
    "myodd=[num for num in range(1,30,3) if num%2==1]"
   ]
  },
  {
   "cell_type": "code",
   "execution_count": 18,
   "metadata": {},
   "outputs": [
    {
     "name": "stdout",
     "output_type": "stream",
     "text": [
      "[1, 4, 7, 10, 13, 16, 19, 22, 25, 28]\n"
     ]
    }
   ],
   "source": [
    "forlist=[]\n",
    "for num in range(1,30,3):\n",
    "    forlist.append(num)\n",
    "print(forlist)\n"
   ]
  },
  {
   "cell_type": "code",
   "execution_count": 21,
   "metadata": {},
   "outputs": [
    {
     "data": {
      "text/plain": [
       "[True, True, True, True, True]"
      ]
     },
     "execution_count": 21,
     "metadata": {},
     "output_type": "execute_result"
    }
   ],
   "source": [
    "myodd=[num%2==1 for num in range(1,30,3) if num%2==1]\n",
    "myodd"
   ]
  },
  {
   "cell_type": "code",
   "execution_count": 14,
   "metadata": {},
   "outputs": [
    {
     "data": {
      "text/plain": [
       "[1, 7, 13, 19, 25]"
      ]
     },
     "execution_count": 14,
     "metadata": {},
     "output_type": "execute_result"
    }
   ],
   "source": [
    "myodd"
   ]
  },
  {
   "cell_type": "markdown",
   "metadata": {},
   "source": [
    "### List comprehension examples using variables other than numbers\n"
   ]
  },
  {
   "cell_type": "code",
   "execution_count": 22,
   "metadata": {},
   "outputs": [
    {
     "data": {
      "text/plain": [
       "['BME', 'Neuroscience', 'Neuroscience', 'BME']"
      ]
     },
     "execution_count": 22,
     "metadata": {},
     "output_type": "execute_result"
    }
   ],
   "source": [
    "Folks = [\n",
    "(\"Luke\", \"BME\", \"student\"),\n",
    "(\"Sheridan\", \"Neuroscience\", \"student\"),\n",
    "(\"Loyal\", \"Neuroscience\", \"professor\"),\n",
    "(\"Winston\", \"BME\", \"professor\")\n",
    "]\n",
    "\n",
    "[x[1] for x in Folks] ## access the second element in each tuple\n",
    "\n",
    "## Use list comprehension and fstring formating to write a descriptive sentence about each person using the info above and print it to the output cell.\n"
   ]
  },
  {
   "cell_type": "code",
   "execution_count": 23,
   "metadata": {},
   "outputs": [
    {
     "data": {
      "text/plain": [
       "[('Luke', 'BME', 'student'),\n",
       " ('Sheridan', 'Neuroscience', 'student'),\n",
       " ('Loyal', 'Neuroscience', 'professor'),\n",
       " ('Winston', 'BME', 'professor')]"
      ]
     },
     "execution_count": 23,
     "metadata": {},
     "output_type": "execute_result"
    }
   ],
   "source": [
    "Folks"
   ]
  },
  {
   "cell_type": "markdown",
   "metadata": {},
   "source": [
    "## Functions\n",
    "Many times when writing programs, you will find yourself doing the same task(s) over and over again. Functions allow you to create reuseable pieces of your programs so you can run a block of specificed code anywhere in your program, as many times as you need, with any modifications or variables that you might need. As an example, lets start by figuring out what the GC% is for a given nucleic acid string.  To do this, we will need to learn the length of the oligonucleotide sequence, as well as the number of 'G' and 'C' bases.  Lets start by figuring out a way to do this for one DNA sequence."
   ]
  },
  {
   "cell_type": "code",
   "execution_count": 24,
   "metadata": {},
   "outputs": [
    {
     "name": "stdout",
     "output_type": "stream",
     "text": [
      "Length of dna: 51\n",
      "Number of Gs: 13\n",
      "Number of Cs: 12\n",
      "49.01960784313725\n"
     ]
    }
   ],
   "source": [
    "dna = 'ATTAGCGTATTCGAGCTATCGATCTAGCGAGCTAGCTATCAGCGACGTACG'\n",
    "\n",
    "dnaLength = len(dna)\n",
    "print(f'Length of dna: {dnaLength}')\n",
    "\n",
    "nG = dna.count('G')\n",
    "print(f'Number of Gs: {nG}')\n",
    "\n",
    "nC = dna.count('C')\n",
    "print(f'Number of Cs: {nC}')\n",
    "\n",
    "nGC = nG + nC\n",
    "\n",
    "GC_content = (nGC/dnaLength)*100\n",
    "print(GC_content)"
   ]
  },
  {
   "cell_type": "markdown",
   "metadata": {},
   "source": [
    "While that's not terribly tedious, what if we needed to do this for 100,000 different dna sequences (not an uncommon task or scale in genomics)? \n",
    "\n",
    "We will definitely need a way to more quickly perform these actions. \n",
    "\n",
    "What we need to do is 'functionalize' this process so we can effectively turn it into a reuseable command. \n",
    "\n",
    "So lets create a function to do all of this for us. \n",
    "\n",
    "We start by defining the function with the `def` statement to define the function's name, followed by a pair of parentheses `()` where we can name a few 'parameters' (another name for variables passed to a function) that we will use within our function. This is then followed by the code block to execute when we 'call' the function. At the end of the function, we specify what values we want to return with `return()`."
   ]
  },
  {
   "cell_type": "code",
   "execution_count": 25,
   "metadata": {},
   "outputs": [],
   "source": [
    "def getGC(seq):\n",
    "    dnaLength = len(seq)\n",
    "    nG = seq.count('G')\n",
    "    nC = seq.count('C')\n",
    "    nGC = nG+nC\n",
    "    GC_content = (nGC/dnaLength)*100\n",
    "    return(GC_content)"
   ]
  },
  {
   "cell_type": "markdown",
   "metadata": {},
   "source": [
    "Once we've created our function, we can then call it as many times as we want with different values passed to the `seq` argument as needed. \n",
    "\n",
    "*Note the terminology difference: the names given in the function definition are called parameters, but the values you supply in the function call are called arguments.*"
   ]
  },
  {
   "cell_type": "code",
   "execution_count": 26,
   "metadata": {},
   "outputs": [
    {
     "name": "stdout",
     "output_type": "stream",
     "text": [
      "49.01960784313725\n"
     ]
    }
   ],
   "source": [
    "dna = 'ATTAGCGTATTCGAGCTATCGATCTAGCGAGCTAGCTATCAGCGACGTACG'\n",
    "\n",
    "gc = getGC(dna)\n",
    "print(gc)"
   ]
  },
  {
   "cell_type": "markdown",
   "metadata": {},
   "source": [
    "Now try and use your function within a `for` loop to iterate over a `list` of different DNA sequences"
   ]
  },
  {
   "cell_type": "code",
   "execution_count": 31,
   "metadata": {},
   "outputs": [
    {
     "name": "stdout",
     "output_type": "stream",
     "text": [
      "46.42857142857143\n",
      "42.42424242424242\n",
      "52.77777777777778\n",
      "55.55555555555556\n"
     ]
    }
   ],
   "source": [
    "myDNASet = [\n",
    "            'ACTGATGCTAGCTGACTGATCTAGCTGA',\n",
    "            'TGCATTTTCGAGCTATCGAGCATTCTACGTACT',\n",
    "            'CACTATCTACGGATCGGAGCGGATTCGTAGCTATGC',\n",
    "            'GTATCGGATCTAGCGGCGGCATTATCG'\n",
    "           ] # this is a list of strings, each containing a DNA sequence.\n",
    "\n",
    "## your code that loop thorough the myDNASet list\n",
    "\n",
    "for mydna in myDNASet:\n",
    "    print(getGC(mydna))"
   ]
  },
  {
   "cell_type": "code",
   "execution_count": 34,
   "metadata": {},
   "outputs": [
    {
     "data": {
      "text/plain": [
       "[46.42857142857143, 42.42424242424242, 52.77777777777778, 55.55555555555556]"
      ]
     },
     "execution_count": 34,
     "metadata": {},
     "output_type": "execute_result"
    }
   ],
   "source": [
    "mygcs=[getGC(mydna) for mydna in myDNASet]\n",
    "mygcs"
   ]
  },
  {
   "cell_type": "markdown",
   "metadata": {},
   "source": [
    "When you declare variables within a function definition, they become completely isolated from any variables you may have created outside the definition. In this case, all variables created within a function definition are considered 'local'.  You cannot access them from outside the function definition, and they don't override any other variables either. This is called the 'scope' of a variable. All variables have the scope of the code block in which they are declared. There are ways to change this, but for now we just need to realize that there are in fact different scopes."
   ]
  },
  {
   "cell_type": "markdown",
   "metadata": {},
   "source": [
    "When defining a function, you may often want to set default values for your parameters, and/or make some parameters optional. You can also use `keyword` arguments to specify them directly when you call a function like so:"
   ]
  },
  {
   "cell_type": "code",
   "execution_count": 35,
   "metadata": {},
   "outputs": [
    {
     "name": "stdout",
     "output_type": "stream",
     "text": [
      "True\n",
      "False\n",
      "False\n",
      "False\n"
     ]
    }
   ],
   "source": [
    "def checkDNA(seq, query='AGC'): #checks to see if the DNA sequence has a specific substring\n",
    "    return(query in seq)\n",
    "\n",
    "print(checkDNA(dna))\n",
    "\n",
    "print(checkDNA(dna,query='TGCA'))\n",
    "\n",
    "print(checkDNA(dna, 'TGCA')) # the keywords can be omitted, with the same result\n",
    "\n",
    "print(checkDNA(query = \"TGCA\", seq = dna)) # with keywords, the positions of the arguments don't matter\n",
    "\n",
    "    "
   ]
  },
  {
   "cell_type": "markdown",
   "metadata": {},
   "source": [
    "By default, unnamed arguments passed to a function will be interpreted positionally. Above, notice that we can omit `seq = dna` in the function call. \n",
    "\n",
    "However, you also instead be explicit with the keywords, in which case the positions of the arguments aren't meaningful. An important rule is that positional arguments have to be provided before named arguments. For example, the following code will generate an error:"
   ]
  },
  {
   "cell_type": "code",
   "execution_count": 36,
   "metadata": {},
   "outputs": [
    {
     "ename": "SyntaxError",
     "evalue": "positional argument follows keyword argument (4229908427.py, line 1)",
     "output_type": "error",
     "traceback": [
      "  \u001b[36mCell\u001b[39m\u001b[36m \u001b[39m\u001b[32mIn[36]\u001b[39m\u001b[32m, line 1\u001b[39m\n\u001b[31m    \u001b[39m\u001b[31mprint(checkDNA(seq = dna,\"TGCA\"))\u001b[39m\n                                   ^\n\u001b[31mSyntaxError\u001b[39m\u001b[31m:\u001b[39m positional argument follows keyword argument\n"
     ]
    }
   ],
   "source": [
    "print(checkDNA(seq = dna,\"TGCA\"))"
   ]
  },
  {
   "cell_type": "markdown",
   "metadata": {},
   "source": [
    "## Group Exercise:\n",
    "\n",
    "Now lets try and create a new function that takes a DNA sequence as an argument and calculates the melting temperature (the temperature at which two DNA strands will separate from each other). \n",
    "\n",
    "This property is a function of the DNA sequence itself. For sequences less than 14 nucleotides the formula is: $T_m(\\degree C) = (A+T) * 2 + (G+C) * 4$. For sequences longer than 13 nucleotides in length, there is a different equation: $T_m(\\degree C) = 64.9 +\\frac{41*(G+C-16.4)}{(A+T+G+C)}$. \n",
    "\n",
    "In each equation, `A, T, G, and C` correspond to the number of each nucleotide in the DNA string. Please define a single function that can test a DNA sequence of any length?"
   ]
  },
  {
   "cell_type": "code",
   "execution_count": 37,
   "metadata": {},
   "outputs": [],
   "source": [
    "def tm(seq):\n",
    "    nA=seq.count(\"A\")\n",
    "    nC=seq.count(\"C\")\n",
    "    nG=seq.count(\"G\")\n",
    "    nT=seq.count(\"T\")\n",
    "    if len(seq)<14:\n",
    "        tm=(nA+nT)*2+(nG+nC)*4\n",
    "    elif len(seq)>13:\n",
    "        tm=64.9+(41*(nG+nC-16.4))/(len(seq))\n",
    "    else:\n",
    "        tm=-1\n",
    "    return(tm)"
   ]
  },
  {
   "cell_type": "code",
   "execution_count": 38,
   "metadata": {},
   "outputs": [
    {
     "name": "stdout",
     "output_type": "stream",
     "text": [
      "59.92142857142858\n",
      "61.91818181818183\n",
      "67.86111111111111\n",
      "62.77407407407408\n"
     ]
    }
   ],
   "source": [
    "# Define and use your function. Test your function by looping through the sequences in the myDNASet list\n",
    "myDNASet = [\n",
    "            'ACTGATGCTAGCTGACTGATCTAGCTGA',\n",
    "            'TGCATTTTCGAGCTATCGAGCATTCTACGTACT',\n",
    "            'CACTATCTACGGATCGGAGCGGATTCGTAGCTATGC',\n",
    "            'GTATCGGATCTAGCGGCGGCATTATCG'\n",
    "           ]\n",
    "\n",
    "for mydna in myDNASet:\n",
    "    print(tm(mydna))\n",
    "\n"
   ]
  },
  {
   "cell_type": "markdown",
   "metadata": {},
   "source": [
    "## Importing modules\n",
    "One of the more useful features of python, as with many other languages, is that you can add features, tools, data, etc to extend the functionality of python using _modules_. Python has a very large and diverse user base that has already developed hundreds (thousands?) of modules to perform broadly useful tasks, or very specialized tasks for different needs. You can also develop your own modules to split projects/workflows in to manageable pieces for easier maintenance and reusability.\n",
    "\n",
    "A module is nothing more than python code. Within a module, you can define classes (objects), functions, and variables. A module is a file containing Python definitions and statements. The file name is the module name with the suffix .py appended. Any existing python file can be referenced as a module and the elements within can then be used. For example, if you have a python file named `sequencing.py` you can import the file/module with the name `sequencing`.\n",
    "\n",
    "To use a module in your code you must first tell python where to find the module. To do this, we use the command `import`"
   ]
  },
  {
   "cell_type": "code",
   "execution_count": 39,
   "metadata": {},
   "outputs": [],
   "source": [
    "import math"
   ]
  },
  {
   "cell_type": "markdown",
   "metadata": {},
   "source": [
    "This tells the python interpreter to load all of the functions and elements found in the `math` module (located within the python path) into the current session. `math` is a 'standard module' that is included with python.  To use a specific function or variable defined in `math` you can call it using the dot (`.`) operator along with the module name"
   ]
  },
  {
   "cell_type": "code",
   "execution_count": 40,
   "metadata": {},
   "outputs": [
    {
     "data": {
      "text/plain": [
       "5.0"
      ]
     },
     "execution_count": 40,
     "metadata": {},
     "output_type": "execute_result"
    }
   ],
   "source": [
    "a = 25\n",
    "math.sqrt(a)"
   ]
  },
  {
   "cell_type": "code",
   "execution_count": 41,
   "metadata": {},
   "outputs": [
    {
     "data": {
      "text/plain": [
       "0.9912028118634736"
      ]
     },
     "execution_count": 41,
     "metadata": {},
     "output_type": "execute_result"
    }
   ],
   "source": [
    "math.cos(a)"
   ]
  },
  {
   "cell_type": "code",
   "execution_count": 42,
   "metadata": {},
   "outputs": [
    {
     "data": {
      "text/plain": [
       "15511210043330985984000000"
      ]
     },
     "execution_count": 42,
     "metadata": {},
     "output_type": "execute_result"
    }
   ],
   "source": [
    "math.factorial(a)"
   ]
  },
  {
   "cell_type": "markdown",
   "metadata": {},
   "source": [
    "It is important to be aware of modules as they can often save you from having to re-write or re-invent code that others have already solved. It is arguably the basis for the relevance of python as a programming language in the sciences as well!"
   ]
  },
  {
   "cell_type": "markdown",
   "metadata": {},
   "source": [
    "There are a few syntactically different ways to import a module. You've already seen the direct import method above, but you can also import only the functions you need from a module by using the `from .. import` syntax:"
   ]
  },
  {
   "cell_type": "code",
   "execution_count": 43,
   "metadata": {},
   "outputs": [
    {
     "data": {
      "text/plain": [
       "1.3979400086720377"
      ]
     },
     "execution_count": 43,
     "metadata": {},
     "output_type": "execute_result"
    }
   ],
   "source": [
    "from math import log10, log\n",
    "log10(a)"
   ]
  },
  {
   "cell_type": "markdown",
   "metadata": {},
   "source": [
    "Here we've imported just two of the functions in the `math` module. Notice that this time, you don't have to use `math.` before calling these functions. You can access them directly without using the module name."
   ]
  },
  {
   "cell_type": "markdown",
   "metadata": {},
   "source": [
    "You can rename the module for brevity or any other reason by using `as` with your import statement."
   ]
  },
  {
   "cell_type": "code",
   "execution_count": 44,
   "metadata": {},
   "outputs": [
    {
     "name": "stdout",
     "output_type": "stream",
     "text": [
      "Today is 2025-08-27\n",
      "Tomorrow is 2025-08-28\n"
     ]
    }
   ],
   "source": [
    "import datetime as dt\n",
    "\n",
    "today = dt.date.today()\n",
    "print(f\"Today is {today}\")\n",
    "\n",
    "tomorrow = today + dt.timedelta(days=1)\n",
    "print(f\"Tomorrow is {tomorrow}\")"
   ]
  },
  {
   "cell_type": "markdown",
   "metadata": {},
   "source": [
    "Here, we imported the datetime module as `dt` . Notice that that the `dt` module defines a class called `date`. Then, we used the `date.today()` method (a function designed for a specific class) to get the current local date, which is then printed with some accessory text using the `print()` function."
   ]
  },
  {
   "cell_type": "markdown",
   "metadata": {},
   "source": [
    "The `import` function performs two operations: 1) a _search_ for a given package/module and 2) the binding of that module (and its functions/variables/classes) to the current python session. When a module is imported, the interpreter first searches for a built-in module with that name. If it doesn't find one, it then looks for a file with the module name and `.py` in a list of directories identified by the `sys.path` variable"
   ]
  },
  {
   "cell_type": "code",
   "execution_count": 45,
   "metadata": {},
   "outputs": [
    {
     "name": "stdout",
     "output_type": "stream",
     "text": [
      "/home/timp/bcmb_bootcamp/day3/notebooks\n"
     ]
    }
   ],
   "source": [
    "import sys\n",
    "sys.path\n",
    "\n",
    "## import the 'os' module and print your current working directory with the getcwd() function\n",
    "import os\n",
    "print(os.getcwd())"
   ]
  },
  {
   "cell_type": "markdown",
   "metadata": {},
   "source": [
    "### Exercise\n",
    "1. Create a function to calculate the volume of a sphere using the radius as an arugment. (hint: use a module to find $\\pi$)"
   ]
  },
  {
   "cell_type": "code",
   "execution_count": 46,
   "metadata": {},
   "outputs": [],
   "source": [
    "def vol(rad):\n",
    "    volume= (4/3)*math.pi*(rad**3)\n",
    "    return volume"
   ]
  },
  {
   "cell_type": "code",
   "execution_count": 47,
   "metadata": {},
   "outputs": [
    {
     "data": {
      "text/plain": [
       "4.1887902047863905"
      ]
     },
     "execution_count": 47,
     "metadata": {},
     "output_type": "execute_result"
    }
   ],
   "source": [
    "vol(1)"
   ]
  },
  {
   "cell_type": "markdown",
   "metadata": {},
   "source": [
    "## Working with files\n",
    "\n",
    "### Reading/opening files\n",
    "Reading and writing to files in python is achieved through the `open()` function. When you 'open' a file, you are creating a device to communicate with the file on disk. We will need to specify how we would like to interact with the file.  Do we want to read the file ('r') or write to the file ('w'). This is the 'mode' that we will need to specify when we make the call to `open()`"
   ]
  },
  {
   "cell_type": "code",
   "execution_count": 48,
   "metadata": {},
   "outputs": [
    {
     "name": "stdout",
     "output_type": "stream",
     "text": [
      "LOCUS       NM_001012505             882 bp    mRNA    linear   PRI 02-AUG-2020\n",
      "\n",
      "DEFINITION  Homo sapiens forkhead box P1 (FOXP1), transcript variant 2, mRNA.\n",
      "\n",
      "ACCESSION   NM_001012505\n",
      "\n",
      "VERSION     NM_001012505.2\n",
      "\n",
      "KEYWORDS    RefSeq.\n",
      "\n",
      "SOURCE      Homo sapiens (human)\n",
      "\n",
      "  ORGANISM  Homo sapiens\n",
      "\n",
      "            Eukaryota; Metazoa; Chordata; Craniata; Vertebrata; Euteleostomi;\n",
      "\n",
      "            Mammalia; Eutheria; Euarchontoglires; Primates; Haplorrhini;\n",
      "\n",
      "            Catarrhini; Hominidae; Homo.\n",
      "\n",
      "REFERENCE   1  (bases 1 to 882)\n",
      "\n",
      "  AUTHORS   Ko YCK, Varma S, Zhu CF, Zhu SX, Vennam S, Poh CF, Jordan RC, Kong\n",
      "\n",
      "            C, Pollack JR and West RB.\n",
      "\n",
      "  TITLE     Gene Expression Profiling of Head and Neck Tumors Identifies FOXP1\n",
      "\n",
      "            and SOX10 Expression as Useful for Distinguishing Ameloblastoma\n",
      "\n",
      "            From Basaloid Salivary Gland Tumors\n",
      "\n",
      "  JOURNAL   Am. J. Surg. Pathol. 44 (5), 665-672 (2020)\n",
      "\n",
      "   PUBMED   31895100\n",
      "\n",
      "  REMARK    GeneRIF: Expression of FOXP1 and SOX10 by ameloblastomas\n",
      "\n",
      "            differentiates them from basaloid salivary gland neoplasms.\n",
      "\n",
      "REFERENCE   2  (bases 1 to 882)\n",
      "\n",
      "  AUTHORS   Wang W, Li Y, Li X, Liu B, Han S, Li X, Zhang B, Li J and Sun S.\n",
      "\n",
      "  TITLE     Circular RNA circ-FOXP1 induced by SOX9 promotes hepatocellular\n",
      "\n",
      "            carcinoma progression via sponging miR-875-3p and miR-421\n",
      "\n",
      "  JOURNAL   Biomed. Pharmacother. 121, 109517 (2020)\n",
      "\n",
      "   PUBMED   31698267\n",
      "\n",
      "  REMARK    GeneRIF: Circ-FOXP1 was significantly upregulated in HCC tissues,\n",
      "\n",
      "            serum and cell lines., which was attributed to the upregulation of\n",
      "\n",
      "            oncogenic transcription factor SOX9.\n",
      "\n",
      "REFERENCE   3  (bases 1 to 882)\n",
      "\n",
      "  AUTHORS   Wei Q, Li X, Zhu Z, Yu W, Qin G, Chen H, Gu Y, Zhao K, Fu X and Sun\n",
      "\n",
      "            M.\n",
      "\n",
      "  TITLE     Expression and prognostic value of FOXP1 in esophageal squamous\n",
      "\n",
      "            cell carcinoma\n",
      "\n",
      "  JOURNAL   Pathol. Res. Pract. 215 (12), 152645 (2019)\n",
      "\n",
      "   PUBMED   31704154\n",
      "\n",
      "  REMARK    GeneRIF: FOXP1 plays an essential role in esophageal squamous cell\n",
      "\n",
      "            carcinoma progression and prognosis and may be a useful biomarker\n",
      "\n",
      "            for predicting survival.\n",
      "\n",
      "REFERENCE   4  (bases 1 to 882)\n",
      "\n",
      "  AUTHORS   Agostinelli C, Akarca AU, Ramsay A, Rizvi H, Rodriguez-Justo M,\n",
      "\n",
      "            Pomplun S, Proctor I, Sabattini E, Linch D, Daw S, Pittaluga S,\n",
      "\n",
      "            Pileri SA, Jaffe ES, Quintanilla-Martinez L and Marafioti T.\n",
      "\n",
      "  TITLE     Novel markers in pediatric-type follicular lymphoma\n",
      "\n",
      "  JOURNAL   Virchows Arch. 475 (6), 771-779 (2019)\n",
      "\n",
      "   PUBMED   31686194\n",
      "\n",
      "  REMARK    GeneRIF: FOXP-1 can represent a novel useful diagnostic marker in\n",
      "\n",
      "            the differential diagnosis between pediatric-type follicular\n",
      "\n",
      "            lymphoma and follicular hyperplasi\n",
      "\n",
      "REFERENCE   5  (bases 1 to 882)\n",
      "\n",
      "  AUTHORS   Liu P, Huang S, Ling S, Xu S, Wang F, Zhang W, Zhou R, He L, Xia X,\n",
      "\n",
      "            Yao Z, Fan Y, Wang N, Hu C, Zhao X, Tucker HO, Wang J and Guo X.\n",
      "\n",
      "  TITLE     Foxp1 controls brown/beige adipocyte differentiation and\n",
      "\n",
      "            thermogenesis through regulating beta3-AR desensitization\n",
      "\n",
      "  JOURNAL   Nat Commun 10 (1), 5070 (2019)\n",
      "\n",
      "   PUBMED   31699980\n",
      "\n",
      "  REMARK    GeneRIF: In pheochromocytoma patients,there was enrichment of FOXP1\n",
      "\n",
      "            expression in beige adipocytes in the vicinity of the vasculature\n",
      "\n",
      "            within omental white adipose tissue.\n",
      "\n",
      "            Publication Status: Online-Only\n",
      "\n",
      "REFERENCE   6  (bases 1 to 882)\n",
      "\n",
      "  AUTHORS   Wang B, Lin D, Li C and Tucker P.\n",
      "\n",
      "  TITLE     Multiple domains define the expression and regulatory properties of\n",
      "\n",
      "            Foxp1 forkhead transcriptional repressors\n",
      "\n",
      "  JOURNAL   J. Biol. Chem. 278 (27), 24259-24268 (2003)\n",
      "\n",
      "   PUBMED   12692134\n",
      "\n",
      "  REMARK    GeneRIF: Foxp1, although broadly expressed, is further regulated by\n",
      "\n",
      "            tissue-specific alternative splicing of its functionally important\n",
      "\n",
      "            sequence domains\n",
      "\n",
      "REFERENCE   7  (bases 1 to 882)\n",
      "\n",
      "  AUTHORS   Banham AH, Beasley N, Campo E, Fernandez PL, Fidler C, Gatter K,\n",
      "\n",
      "            Jones M, Mason DY, Prime JE, Trougouboff P, Wood K and Cordell JL.\n",
      "\n",
      "  TITLE     The FOXP1 winged helix transcription factor is a novel candidate\n",
      "\n",
      "            tumor suppressor gene on chromosome 3p\n",
      "\n",
      "  JOURNAL   Cancer Res. 61 (24), 8820-8829 (2001)\n",
      "\n",
      "   PUBMED   11751404\n",
      "\n",
      "  REMARK    GeneRIF: The FOXP1 winged helix transcription factor is a novel\n",
      "\n",
      "            candidate tumor suppressor gene on chromosome 3p.\n",
      "\n",
      "REFERENCE   8  (bases 1 to 882)\n",
      "\n",
      "  AUTHORS   Wolska MK, Bukowski K and Jakubczak A.\n",
      "\n",
      "  TITLE     [Occurrence of beta-lactamase type ESBL and IBL in Pseudomonas\n",
      "\n",
      "            aeruginosa rods]\n",
      "\n",
      "  JOURNAL   Med Dosw Mikrobiol 53 (1), 45-51 (2001)\n",
      "\n",
      "   PUBMED   11757404\n",
      "\n",
      "REFERENCE   9  (bases 1 to 882)\n",
      "\n",
      "  AUTHORS   Adams MD, Kerlavage AR, Fleischmann RD, Fuldner RA, Bult CJ, Lee\n",
      "\n",
      "            NH, Kirkness EF, Weinstock KG, Gocayne JD, White O et al.\n",
      "\n",
      "  TITLE     Initial assessment of human gene diversity and expression patterns\n",
      "\n",
      "            based upon 83 million nucleotides of cDNA sequence\n",
      "\n",
      "  JOURNAL   Nature 377 (6547 Suppl), 3-174 (1995)\n",
      "\n",
      "   PUBMED   7566098\n",
      "\n",
      "REFERENCE   10 (bases 1 to 882)\n",
      "\n",
      "  AUTHORS   Li C and Tucker PW.\n",
      "\n",
      "  TITLE     DNA-binding properties and secondary structural model of the\n",
      "\n",
      "            hepatocyte nuclear factor 3/fork head domain\n",
      "\n",
      "  JOURNAL   Proc. Natl. Acad. Sci. U.S.A. 90 (24), 11583-11587 (1993)\n",
      "\n",
      "   PUBMED   8265594\n",
      "\n",
      "COMMENT     REVIEWED REFSEQ: This record has been curated by NCBI staff. The\n",
      "\n",
      "            reference sequence was derived from AC097634.2, BC068481.1 and\n",
      "\n",
      "            BC005055.1.\n",
      "\n",
      "            On May 20, 2020 this sequence version replaced NM_001012505.1.\n",
      "\n",
      "            \n",
      "\n",
      "            Summary: This gene belongs to subfamily P of the forkhead box (FOX)\n",
      "\n",
      "            transcription factor family. Forkhead box transcription factors\n",
      "\n",
      "            play important roles in the regulation of tissue- and cell\n",
      "\n",
      "            type-specific gene transcription during both development and\n",
      "\n",
      "            adulthood. Forkhead box P1 protein contains both DNA-binding- and\n",
      "\n",
      "            protein-protein binding-domains. This gene may act as a tumor\n",
      "\n",
      "            suppressor as it is lost in several tumor types and maps to a\n",
      "\n",
      "            chromosomal region (3p14.1) reported to contain a tumor suppressor\n",
      "\n",
      "            gene(s). Alternative splicing results in multiple transcript\n",
      "\n",
      "            variants encoding different isoforms. [provided by RefSeq, Jul\n",
      "\n",
      "            2008].\n",
      "\n",
      "            \n",
      "\n",
      "            Transcript Variant: This variant (2) lacks multiple 3' exons but\n",
      "\n",
      "            has an alternate exon in the 3' end, compared to variant 1. The\n",
      "\n",
      "            encoded isoform b (previously called isoform 2) has a shorter and\n",
      "\n",
      "            distinct C-terminus, compared to isoform a.\n",
      "\n",
      "            \n",
      "\n",
      "            Publication Note:  This RefSeq record includes a subset of the\n",
      "\n",
      "            publications that are available for this gene. Please see the Gene\n",
      "\n",
      "            record to access additional publications.\n",
      "\n",
      "            \n",
      "\n",
      "            ##Evidence-Data-START##\n",
      "\n",
      "            Transcript exon combination :: BC080521.1 [ECO:0000332]\n",
      "\n",
      "            ##Evidence-Data-END##\n",
      "\n",
      "            COMPLETENESS: complete on the 3' end.\n",
      "\n",
      "PRIMARY     REFSEQ_SPAN         PRIMARY_IDENTIFIER PRIMARY_SPAN        COMP\n",
      "\n",
      "            1-3                 AC097634.2         92862-92864         c\n",
      "\n",
      "            4-695               BC068481.1         15-706\n",
      "\n",
      "            696-882             BC005055.1         657-843\n",
      "\n",
      "FEATURES             Location/Qualifiers\n",
      "\n",
      "     source          1..882\n",
      "\n",
      "                     /organism=\"Homo sapiens\"\n",
      "\n",
      "                     /mol_type=\"mRNA\"\n",
      "\n",
      "                     /db_xref=\"taxon:9606\"\n",
      "\n",
      "                     /chromosome=\"3\"\n",
      "\n",
      "                     /map=\"3p13\"\n",
      "\n",
      "     gene            1..882\n",
      "\n",
      "                     /gene=\"FOXP1\"\n",
      "\n",
      "                     /gene_synonym=\"12CC4; hFKH1B; HSPC215; MFH; QRF1\"\n",
      "\n",
      "                     /note=\"forkhead box P1\"\n",
      "\n",
      "                     /db_xref=\"GeneID:27086\"\n",
      "\n",
      "                     /db_xref=\"HGNC:HGNC:3823\"\n",
      "\n",
      "                     /db_xref=\"MIM:605515\"\n",
      "\n",
      "     exon            1..69\n",
      "\n",
      "                     /gene=\"FOXP1\"\n",
      "\n",
      "                     /gene_synonym=\"12CC4; hFKH1B; HSPC215; MFH; QRF1\"\n",
      "\n",
      "                     /inference=\"alignment:Splign:2.1.0\"\n",
      "\n",
      "     exon            70..218\n",
      "\n",
      "                     /gene=\"FOXP1\"\n",
      "\n",
      "                     /gene_synonym=\"12CC4; hFKH1B; HSPC215; MFH; QRF1\"\n",
      "\n",
      "                     /inference=\"alignment:Splign:2.1.0\"\n",
      "\n",
      "     exon            219..348\n",
      "\n",
      "                     /gene=\"FOXP1\"\n",
      "\n",
      "                     /gene_synonym=\"12CC4; hFKH1B; HSPC215; MFH; QRF1\"\n",
      "\n",
      "                     /inference=\"alignment:Splign:2.1.0\"\n",
      "\n",
      "     exon            349..443\n",
      "\n",
      "                     /gene=\"FOXP1\"\n",
      "\n",
      "                     /gene_synonym=\"12CC4; hFKH1B; HSPC215; MFH; QRF1\"\n",
      "\n",
      "                     /inference=\"alignment:Splign:2.1.0\"\n",
      "\n",
      "     exon            444..504\n",
      "\n",
      "                     /gene=\"FOXP1\"\n",
      "\n",
      "                     /gene_synonym=\"12CC4; hFKH1B; HSPC215; MFH; QRF1\"\n",
      "\n",
      "                     /inference=\"alignment:Splign:2.1.0\"\n",
      "\n",
      "     exon            505..695\n",
      "\n",
      "                     /gene=\"FOXP1\"\n",
      "\n",
      "                     /gene_synonym=\"12CC4; hFKH1B; HSPC215; MFH; QRF1\"\n",
      "\n",
      "                     /inference=\"alignment:Splign:2.1.0\"\n",
      "\n",
      "     misc_feature    510..512\n",
      "\n",
      "                     /gene=\"FOXP1\"\n",
      "\n",
      "                     /gene_synonym=\"12CC4; hFKH1B; HSPC215; MFH; QRF1\"\n",
      "\n",
      "                     /note=\"upstream in-frame stop codon\"\n",
      "\n",
      "     CDS             516..860\n",
      "\n",
      "                     /gene=\"FOXP1\"\n",
      "\n",
      "                     /gene_synonym=\"12CC4; hFKH1B; HSPC215; MFH; QRF1\"\n",
      "\n",
      "                     /note=\"isoform b is encoded by transcript variant 2; fork\n",
      "\n",
      "                     head-related protein like B; glutamine-rich factor 1;\n",
      "\n",
      "                     mac-1-regulated forkhead\"\n",
      "\n",
      "                     /codon_start=1\n",
      "\n",
      "                     /product=\"forkhead box protein P1 isoform b\"\n",
      "\n",
      "                     /protein_id=\"NP_001012523.1\"\n",
      "\n",
      "                     /db_xref=\"CCDS:CCDS33785.1\"\n",
      "\n",
      "                     /db_xref=\"GeneID:27086\"\n",
      "\n",
      "                     /db_xref=\"HGNC:HGNC:3823\"\n",
      "\n",
      "                     /db_xref=\"MIM:605515\"\n",
      "\n",
      "                     /translation=\"MMQESGTETKSNGSAIQNGSGGSNHLLECGGLREGRSNGETPAV\n",
      "\n",
      "                     DIGAADLAHAQQQQQQWHLINHQPSRSPSSWLKRLISSPWELEVLQVPLWGAVAETKM\n",
      "\n",
      "                     SGPVCQPNPSPF\"\n",
      "\n",
      "     misc_feature    690..695\n",
      "\n",
      "                     /gene=\"FOXP1\"\n",
      "\n",
      "                     /gene_synonym=\"12CC4; hFKH1B; HSPC215; MFH; QRF1\"\n",
      "\n",
      "                     /note=\"Breakpoint for translocation to form PAX5-FOXP1;\n",
      "\n",
      "                     propagated from UniProtKB/Swiss-Prot (Q9H334.1); other\n",
      "\n",
      "                     site\"\n",
      "\n",
      "     exon            696..882\n",
      "\n",
      "                     /gene=\"FOXP1\"\n",
      "\n",
      "                     /gene_synonym=\"12CC4; hFKH1B; HSPC215; MFH; QRF1\"\n",
      "\n",
      "                     /inference=\"alignment:Splign:2.1.0\"\n",
      "\n",
      "ORIGIN      \n",
      "\n",
      "        1 gccagcgccc cggcgaacgg caaagaggga gccgctcccg ctcggggggc cgctggagtg\n",
      "\n",
      "       61 cccagcggga acccgaaagt ttgtaagagg aagagagcgc gcggcgagcg agcgagcggg\n",
      "\n",
      "      121 ccgggggcag cggcagcggc gccggggacc atggtgctgc cggcgcctcc tccgcgggcg\n",
      "\n",
      "      181 tgaaggcggc gctcctactc cctccccgga ctccgcggtg tcccagaagc ttttgttgac\n",
      "\n",
      "      241 aattccagtt tccgaacaaa acatttcggc aatggtgagg gcttcgatcc cttctctgat\n",
      "\n",
      "      301 ttgctgtcag ccatgaacgg atggatgtga tgcctgctag ccaaaaggct tccctctgtg\n",
      "\n",
      "      361 tgttgcagtc ctgtggcatt atgcatgccc cctcccagtg accccaggct ttttatggct\n",
      "\n",
      "      421 gtgagacacg ttaaaatttc aggggtaaga cgtgaccttt tgaggtgact ataactgaag\n",
      "\n",
      "      481 attgctttac agaagccaaa aaaggttttt gagtcatgat gcaagaatct gggactgaga\n",
      "\n",
      "      541 caaaaagtaa cggttcagcc atccagaatg ggtcgggcgg cagcaaccac ttactagagt\n",
      "\n",
      "      601 gcggcggtct tcgggagggg cggtccaacg gagagacgcc ggccgtggac atcggggcag\n",
      "\n",
      "      661 ctgacctcgc ccacgcccag cagcagcagc aacagtggca tctcataaac catcagccct\n",
      "\n",
      "      721 ctaggagtcc cagcagttgg cttaagagac taatttcaag cccttgggag ttggaagtcc\n",
      "\n",
      "      781 tgcaggtccc cttgtgggga gcagttgctg agacgaagat gagtggacct gtgtgtcagc\n",
      "\n",
      "      841 ctaacccttc cccattttga ataaaattat tctttggaga aa\n",
      "\n",
      "//\n",
      "\n",
      "\n",
      "\n"
     ]
    }
   ],
   "source": [
    "file = open('files/Foxp1.gbk',mode = 'r')\n",
    "\n",
    "# iterate through all lines of a file\n",
    "for line in file:\n",
    "    print(line)"
   ]
  },
  {
   "cell_type": "code",
   "execution_count": 53,
   "metadata": {},
   "outputs": [
    {
     "name": "stdout",
     "output_type": "stream",
     "text": [
      "LOCUS       NM_001012505             882 bp    mRNA    linear   PRI 02-AUG-2020\n",
      "\n",
      "DEFINITION  Homo sapiens forkhead box P1 (FOXP1), transcript variant 2, mRNA.\n",
      "\n",
      "ACCESSION   NM_001012505\n",
      "\n",
      "VERSION     NM_001012505.2\n",
      "\n",
      "KEYWORDS    RefSeq.\n",
      "\n"
     ]
    }
   ],
   "source": [
    "# Read only the first n lines of a file\n",
    "nLines = 5\n",
    "i=0\n",
    "\n",
    "# Need to re-open the file since we've already iterated through it completely\n",
    "file = open('files/Foxp1.gbk',mode = 'r')\n",
    "\n",
    "while i < nLines:\n",
    "    print(next(file))\n",
    "    i += 1\n",
    "\n",
    "file.close()"
   ]
  },
  {
   "cell_type": "markdown",
   "metadata": {},
   "source": [
    "### Fetching files/data from the internet"
   ]
  },
  {
   "cell_type": "code",
   "execution_count": 54,
   "metadata": {},
   "outputs": [
    {
     "name": "stdout",
     "output_type": "stream",
     "text": [
      "b'>chrIII\\n'\n",
      "['CCCACACACCACACCCACACCACACCCACACACCACACACACCACACCCA', 'CACACCCACACCACACCACACCCACACCACACCCACACACCCACACCCAC', 'ACACCACACCCACACACACCACACCCACACACACCCACACCCACACACCA', 'CACCCACACACACACCACACCCACACACACCACACCACACCCACACCACA', 'CCCACACCCACACACCACACCCACACCCACACCCCACACCCACACACCAC', 'ACCCACACACACCACACCCACACACACCCACACCACACCCACACACCACA', 'CCCACACACCCACACCCACACACACCACACCCACACCACACCCACACCCA', 'CACACCCACACCCTAACACTACCCTAACACTACCCTATTCTAACCCTGAT', 'TTTACCTGTCTCCCAACTTACTCTCCATTACCCTACCTCTCCACTCGTTA', 'CCCTGTCTCATTCAACCGTACCACTCCCAACCACCATCCATCTCTCTACT']\n"
     ]
    }
   ],
   "source": [
    "## lets deconstruct what's happening here.\n",
    "\n",
    "import urllib\n",
    "import gzip\n",
    "\n",
    "url = \"https://hgdownload.soe.ucsc.edu/goldenPath/sacCer3/chromosomes/chrIII.fa.gz\"\n",
    "urllib.request.urlretrieve(url, \"chrIII.fa.gz\")\n",
    "\n",
    "chrIII = gzip.open('chrIII.fa.gz',mode = 'rb') # note the additional use of 'b' here meaning we are going to 'read' a 'binary' (zipped) file.\n",
    "\n",
    "print(next(chrIII))\n",
    "\n",
    "numLines = 10\n",
    "\n",
    "head = [next(chrIII).decode().strip() for x in range(numLines)] # Using list comprehension to return a list of values from some operation\n",
    "\n",
    "print(head)\n",
    "\n",
    "# .decode() to convert byte-string (b'') to a string ('')\n",
    "\n",
    "# .strip() to remove the newline character ('\\n') from the end of each line\n",
    "\n",
    "chrIII.close()"
   ]
  },
  {
   "cell_type": "markdown",
   "metadata": {},
   "source": [
    "### Writing output to a file\n",
    "When we write to a file, we need to indicate whether we are going to overwrite anything in an existing file, or append (`mode = a`) the content to the end of the existing file. When we are done with a file, we should always close it with `close()`"
   ]
  },
  {
   "cell_type": "code",
   "execution_count": 58,
   "metadata": {},
   "outputs": [],
   "source": [
    "genes = ['Gapdh','Mef2c','Pax6','Cxcl1','Msi1']\n",
    "\n",
    "file = open('myOutput.txt','w')\n",
    "file.write(\"Here is my awesome file content!\\n\")\n",
    "file.write(\"It's probably the most important information I'll need for my thesis!\\n\")\n",
    "for gene in genes:\n",
    "    file.write(f'{gene}\\n')\n",
    "file.close()"
   ]
  },
  {
   "cell_type": "code",
   "execution_count": 61,
   "metadata": {},
   "outputs": [],
   "source": [
    "file = open('myOutput.txt','a') # Try changing the mode from 'a' to 'w'\n",
    "file.write(\"I forgot to add this as well\\n\")\n",
    "file.close()"
   ]
  },
  {
   "cell_type": "code",
   "execution_count": 64,
   "metadata": {},
   "outputs": [
    {
     "name": "stdout",
     "output_type": "stream",
     "text": [
      "Here is my awesome file content!\n",
      "It's probably the most important information I'll need for my thesis!\n",
      "Gapdh\n",
      "Mef2c\n",
      "Pax6\n",
      "Cxcl1\n",
      "Msi1\n",
      "I forgot to add this as well\n",
      "I forgot to addhghghjfuyruyfl as well\n",
      "I forgot to add this as well\n"
     ]
    }
   ],
   "source": [
    "file = open('myOutput.txt','r')\n",
    "\n",
    "for line in file:\n",
    "    print(line.strip())\n"
   ]
  },
  {
   "cell_type": "code",
   "execution_count": null,
   "metadata": {},
   "outputs": [],
   "source": [
    "file = open('myOutput.txt','a') # Try changing the mode from 'a' to 'w'\n",
    "file.write(\"I forgot to add this as well\\n\")\n",
    "file.close()"
   ]
  },
  {
   "cell_type": "code",
   "execution_count": null,
   "metadata": {},
   "outputs": [],
   "source": [
    "file = open('myOutput.txt','r')\n",
    "\n",
    "for line in file:\n",
    "    print(line)\n"
   ]
  },
  {
   "cell_type": "markdown",
   "metadata": {},
   "source": [
    "## Intro to Python Scripting\n"
   ]
  },
  {
   "cell_type": "markdown",
   "metadata": {},
   "source": [
    " Now we're going to tie all of this together into a python script that is a self-contained program. So far we've used python interactively with notebooks, executing code block by block. Scripts are just text files with a set of instructions that are run when the script is called. By convention, these files have the suffix `.py`. \n",
    "\n",
    "\n"
   ]
  },
  {
   "cell_type": "markdown",
   "metadata": {},
   "source": [
    "Let's make a real, functional script that can translate a DNA sequence into its corresponding protein."
   ]
  },
  {
   "cell_type": "code",
   "execution_count": 75,
   "metadata": {},
   "outputs": [],
   "source": [
    "#This dictionary represents the 'genetic code' of DNA codons and their corresponding amino acids\n",
    "gencode = {\n",
    "    'ATA':'I', 'ATC':'I', 'ATT':'I', 'ATG':'M',\n",
    "    'ACA':'T', 'ACC':'T', 'ACG':'T', 'ACT':'T',\n",
    "    'AAC':'N', 'AAT':'N', 'AAA':'K', 'AAG':'K',\n",
    "    'AGC':'S', 'AGT':'S', 'AGA':'R', 'AGG':'R',\n",
    "    'CTA':'L', 'CTC':'L', 'CTG':'L', 'CTT':'L',\n",
    "    'CCA':'P', 'CCC':'P', 'CCG':'P', 'CCT':'P',\n",
    "    'CAC':'H', 'CAT':'H', 'CAA':'Q', 'CAG':'Q',\n",
    "    'CGA':'R', 'CGC':'R', 'CGG':'R', 'CGT':'R',\n",
    "    'GTA':'V', 'GTC':'V', 'GTG':'V', 'GTT':'V',\n",
    "    'GCA':'A', 'GCC':'A', 'GCG':'A', 'GCT':'A',\n",
    "    'GAC':'D', 'GAT':'D', 'GAA':'E', 'GAG':'E',\n",
    "    'GGA':'G', 'GGC':'G', 'GGG':'G', 'GGT':'G',\n",
    "    'TCA':'S', 'TCC':'S', 'TCG':'S', 'TCT':'S',\n",
    "    'TTC':'F', 'TTT':'F', 'TTA':'L', 'TTG':'L',\n",
    "    'TAC':'Y', 'TAT':'Y', 'TAA':'_', 'TAG':'_',\n",
    "    'TGC':'C', 'TGT':'C', 'TGA':'_', 'TGG':'W'}\n",
    "\n",
    "# First let's write a function to return the amino acid associated with a given codon.\n",
    "def lookup_AA(codon):\n",
    "    aa = gencode[codon]\n",
    "    return(aa)\n",
    "\n",
    "# Let's dissect this function here to see what's going on and then we can make a reuseable script out of this\n",
    "def translate_dna(dna):\n",
    "    myprotein=\"\"\n",
    "    for i in range(0,len(dna), 3):\n",
    "        print(myprotein)\n",
    "        codon=dna[i:i+3]\n",
    "        myprotein=myprotein+lookup_AA(codon)\n",
    "    return(myprotein)\n"
   ]
  },
  {
   "cell_type": "code",
   "execution_count": 76,
   "metadata": {},
   "outputs": [
    {
     "name": "stdout",
     "output_type": "stream",
     "text": [
      "\n",
      "M\n",
      "MM\n",
      "MMM\n",
      "MMMM\n",
      "MMMMM\n",
      "MMMMMM\n",
      "MMMMMMM\n",
      "MMMMMMMM\n",
      "MMMMMMMMM\n"
     ]
    },
    {
     "data": {
      "text/plain": [
       "'MMMMMMMMMM'"
      ]
     },
     "execution_count": 76,
     "metadata": {},
     "output_type": "execute_result"
    }
   ],
   "source": [
    "translate_dna('ATGATGATGATGATGATGATGATGATGATG')"
   ]
  },
  {
   "cell_type": "markdown",
   "metadata": {},
   "source": [
    "### Passing arguments to scripts via the command line"
   ]
  },
  {
   "cell_type": "markdown",
   "metadata": {},
   "source": [
    "Similar to how we provided arguments to functions, we can also flexibly provide python scripts with arguments. The syntax for this is:\n",
    "\n",
    "**python my_script.py arg1 arg2 arg3 ...**"
   ]
  },
  {
   "cell_type": "markdown",
   "metadata": {},
   "source": [
    "Now we just need to know how to access these arguments from within the script. From the `sys` module we used above, arguments can be accessed `sys.argv`. The first element (`sys.argv[0]`) will be the name of the script that was called. The rest of the elements (`sys.argv[1], sys.argv[2], ..., sys.argv[n]`) are the command line arguments, represented as strings. \n",
    "\n",
    "With this knowledge (and everything you've learned so far!) we should be able to make our script interactive."
   ]
  },
  {
   "cell_type": "markdown",
   "metadata": {},
   "source": [
    "## Review\n",
    "- Questions?\n",
    "- Homework"
   ]
  }
 ],
 "metadata": {
  "kernelspec": {
   "display_name": "base",
   "language": "python",
   "name": "python3"
  },
  "language_info": {
   "codemirror_mode": {
    "name": "ipython",
    "version": 3
   },
   "file_extension": ".py",
   "mimetype": "text/x-python",
   "name": "python",
   "nbconvert_exporter": "python",
   "pygments_lexer": "ipython3",
   "version": "3.12.11"
  }
 },
 "nbformat": 4,
 "nbformat_minor": 4
}
